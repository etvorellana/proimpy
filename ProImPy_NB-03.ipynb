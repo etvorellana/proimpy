{
 "cells": [
  {
   "cell_type": "markdown",
   "id": "d18f20b9-6a91-4cba-a9f0-c48554af3ec0",
   "metadata": {},
   "source": [
    "# Imagem e Suas Propriedades\n",
    "1. Profundidade de bits\n",
    "2. Pixel e Voxel\n",
    "3. Histograma de imagem\n",
    "4. Janela e Nível\n",
    "5. Conectividade: 4 ou 8 pixels\n",
    "6. Tipos de imagem: JPEG, TIFF, DICOM\n",
    "7. Estruturas de dados para análise de imagens\n",
    "8. Leitura, escrita e exibição de imagens\n",
    "    8.1 Lendo Imagens: Leitura de imagens DICOM usando pyDICOM\n",
    "    8.2 Escrita de Imagens: Escrevendo imagens DICOM usando pyDICOM\n",
    "    8.3 Exibição de imagens\n",
    " "
   ]
  },
  {
   "cell_type": "code",
   "execution_count": null,
   "id": "468b54a8-657f-4010-bbb5-932492ee07e3",
   "metadata": {},
   "outputs": [],
   "source": [
    "#Profundidade de bits\n"
   ]
  },
  {
   "cell_type": "code",
   "execution_count": null,
   "id": "9e076274-cdf8-489c-a3c2-324d406030ef",
   "metadata": {},
   "outputs": [],
   "source": [
    "#Pixel e Voxel\n"
   ]
  },
  {
   "cell_type": "code",
   "execution_count": null,
   "id": "f72a7275-68c3-48a6-a262-7af66c823d53",
   "metadata": {},
   "outputs": [],
   "source": [
    "#Histograma de imagem\n"
   ]
  },
  {
   "cell_type": "code",
   "execution_count": null,
   "id": "c309e112-09ff-4f66-a4ed-66e8c7740340",
   "metadata": {},
   "outputs": [],
   "source": [
    "#Janela e Nível\n"
   ]
  },
  {
   "cell_type": "code",
   "execution_count": null,
   "id": "22e56513-eda3-4ec6-a61c-acb91ce09ebd",
   "metadata": {},
   "outputs": [],
   "source": [
    "#Conectividade: 4 ou 8 pixels\n"
   ]
  },
  {
   "cell_type": "code",
   "execution_count": null,
   "id": "358893c0-cd2e-41e1-9ee8-1ee9ce070897",
   "metadata": {},
   "outputs": [],
   "source": [
    "#Tipos de imagem: JPEG, TIFF, DICOM\n"
   ]
  },
  {
   "cell_type": "code",
   "execution_count": 1,
   "id": "cbc2b4ac-de92-4e6e-abaa-22b81eaf0336",
   "metadata": {
    "tags": []
   },
   "outputs": [],
   "source": [
    "#Estruturas de dados para análise de imagens\n"
   ]
  },
  {
   "cell_type": "code",
   "execution_count": null,
   "id": "e76ae07b-722a-4d57-870b-fe8f20ad42c9",
   "metadata": {},
   "outputs": [],
   "source": [
    "#Leitura, escrita e exibição de imagens\n"
   ]
  },
  {
   "cell_type": "code",
   "execution_count": 2,
   "id": "c92ad22a-ffc9-47c9-9e62-1be3e35ff79e",
   "metadata": {
    "tags": []
   },
   "outputs": [],
   "source": [
    "#Lendo Imagens: Leitura de imagens DICOM usando pyDICOM\n"
   ]
  },
  {
   "cell_type": "code",
   "execution_count": 3,
   "id": "0038828d-48df-4032-a309-f1680f2d793f",
   "metadata": {
    "tags": []
   },
   "outputs": [],
   "source": [
    "#Escrita de Imagens: Escrevendo imagens DICOM usando pyDICOM\n"
   ]
  },
  {
   "cell_type": "code",
   "execution_count": null,
   "id": "6ae1a254-3066-4e45-b550-63bfa7e962aa",
   "metadata": {},
   "outputs": [],
   "source": [
    "#Exibição de imagens"
   ]
  }
 ],
 "metadata": {
  "kernelspec": {
   "display_name": "Python 3 (ipykernel)",
   "language": "python",
   "name": "python3"
  },
  "language_info": {
   "codemirror_mode": {
    "name": "ipython",
    "version": 3
   },
   "file_extension": ".py",
   "mimetype": "text/x-python",
   "name": "python",
   "nbconvert_exporter": "python",
   "pygments_lexer": "ipython3",
   "version": "3.9.16"
  }
 },
 "nbformat": 4,
 "nbformat_minor": 5
}
