{
 "cells": [
  {
   "cell_type": "markdown",
   "id": "acefa2f2-27f7-41af-8070-3cdd1b8c3a53",
   "metadata": {},
   "source": [
    "<!--BOOK_INFORMATION-->\n",
    "<img align=\"left\" style=\"padding-right:10px;\" src=\"Imagens/cover-small.jpg\">\n",
    "\n",
    "_Este notebook contém material extraído e adaptado do livro:_\n",
    "\n",
    "> A Whirlwind Tour of Python by Jake VanderPlas (O’Reilly). Copyright 2016 O’Reilly Media, Inc., 978-1-491-96465-1.\n",
    "\n",
    "_O conteúdo está disponível no [GitHub](https://github.com/jakevdp/WhirlwindTourOfPython);_\n",
    "\n",
    "_O texto e o código estão disponíveis sob a licença [CC0](https://github.com/jakevdp/WhirlwindTourOfPython/blob/master/LICENSE);_\n",
    "\n",
    "\n",
    "<img align=\"left\" style=\"padding-right:10px;\" src=\"Imagens/PDSH-cover-small.png\">\n",
    "\n",
    "\n",
    "_Este notebook contém material extraído e adaptado do livro:_\n",
    "\n",
    "> Python Data Science Handbook: Essential Tools for Working with Data by Jake VanderPlas (O’Reilly). Copyright 2016 O’Reilly Media, Inc., 978-1-491-91214-0\n",
    "\n",
    "_O conteúdo está disponível no [GitHub](https://github.com/jakevdp/PythonDataScienceHandbook);_\n",
    "\n",
    "_O código está disponíveis sob a licença [MIT license](https://github.com/jakevdp/PythonDataScienceHandbook/blob/master/LICENSE-CODE);_\n",
    "\n",
    "_O texto estão disponíveis sob a licença [CC-BY-NC-ND license](https://github.com/jakevdp/PythonDataScienceHandbook/blob/master/LICENSE-TEXT);_\n",
    "\n"
   ]
  },
  {
   "cell_type": "markdown",
   "id": "1234f5bd-5c5a-4d50-969a-5b5f5caa1d81",
   "metadata": {},
   "source": [
    "# Uma Introdução Rápida #\n",
    "\n",
    "Concebida no fim dos anos 80 como uma linguagem de script, __Python__ se converteu nos últimos anos numa ferramenta essencial para muitos programadores, engenheiros e cientistas. Veja um pouco sobre a história do desenvolvimento de _Python_ em [A História do Python](http://mindbending.org/pt/a-historia-do-python \"A História do Python\").\n",
    "\n",
    "<img align=\"center\" style=\"padding-right:10px;\" src=\"Imagens/history_of_the_python_language.png\">\n",
    "\n",
    "> Fonte: [History of the Python language](https://www.preceden.com/timelines/5366-history-of-the-python-language)"
   ]
  },
  {
   "cell_type": "markdown",
   "id": "0f717e9e-57ba-4b06-b99a-6777e2ae0d48",
   "metadata": {},
   "source": [
    "Python pode ser definida como uma linguagem de programação de alto nível que permite lidar com várias tarefas de programação, como computação numérica, desenvolvimento web, programação de banco de dados, programação de rede, processamento paralelo, etc. Pode-se acrescentar a isto o fato de estar disponível para os sistemas operacionais mais populares, como Windows, Mac e Linux. \n",
    "\n",
    "O fato de se tratar de uma linguagem interpretada permite que programadores possam testar o código em ambientes interativos, antes de incorporar no programa final, eliminando a necessidade de processos demorados de compilação. Entretanto, muitos programadores procuram Python com base na sua simplicidade e elegância, bem como devido à vantagem de contar com um ecossistema de ferramenta construídas em cima desta poderosa linguagem. A modo de exemplo pode-se falar do desenvolvimento de aplicações em computação científica e ciência dos dados que são construídas em torno de um grupo de pacotes maduros e úteis:\n",
    "\n",
    "* __NumPy__ : fornece armazenamento e ferramentas de cômputo eficientes para arrays e matrizes de dados;\n",
    "* __SciPy__ : contém uma ampla gama de ferramentas numéricas, como rotinas para integração numérica ou interpolação;\n",
    "* __Pandas__ : fornece um DataFrame, juntamente com um poderoso conjunto de métodos para manipular, filtrar, agrupar e transformar dados.\n",
    "* __Matplotlib__ : disponibiliza uma interface útil para a criação de gráficos e figuras de qualidade para publicação; \n",
    "* __Scikit-Learn__ : fornece um conjunto de ferramentas para a aplicação de algoritmos de aprendizagem de máquina.\n",
    "* __IPython / Jupyter__ : fornece um terminal aprimorado e um ambiente de notebook interativo, muito útil para análises exploratórias, bem como para criação de documentos interativos e executáveis.\n"
   ]
  },
  {
   "cell_type": "markdown",
   "id": "2ae55cdc-8045-49d2-b22c-7f399b0d9de0",
   "metadata": {},
   "source": [
    "Como seu foco está na capacidade de programar mais rapidamente, a velocidade de execução é prejudicada em alguns casos. Um programa Python pode ser até 10 vezes mais lento do que um programa C equivalente, mas conterá menos linhas de código e pode ser programado para lidar facilmente com vários tipos de dados. \n",
    "\n",
    "<img align=\"center\" style=\"padding-right:10px;\" src=\"Imagens/Efficiency.png\">\n",
    "\n",
    "> Fonte: Pereira, R., Couto, M., Ribeiro, F., Rua, R., Cunha, J., Fernandes, J. P., &#38; Saraiva, J. (2017). Energy efficiency across programming languages: How do energy, time, and memory relate. SLE 2017 - Proceedings of the 10th ACM SIGPLAN International Conference on Software Language Engineering, Co-Located with SPLASH 2017, 256–267. [DOI](https://doi.org/10.1145/3136014.3136031)\n",
    "\n",
    "Essa desvantagem no código Python pode ser superada convertendo as partes computacionalmente intensivas do código para C/C++ ou pelo uso apropriado de estrutura de dados e módulos disponíveis.\n",
    "\n",
    "Para aproveitar o poder deste ecossistema, no desenvolvimento de aplicações em computação científica, primeiro é necessário ter uma determinada familiaridade com a própria linguagem Python. Muitos dos alunos deste curso tem familiaridade com outras linguagens - MATLAB, Pascal, Java, C ++, etc. - pelo que se tentaremos disponibilizar uma revisão breve, mas abrangente desta linguagem."
   ]
  },
  {
   "cell_type": "code",
   "execution_count": null,
   "id": "9038f2b1-6e85-410e-bb12-023289d1a182",
   "metadata": {
    "tags": []
   },
   "outputs": [],
   "source": [
    "import this"
   ]
  },
  {
   "cell_type": "markdown",
   "id": "7310cf9f-cf9f-4fdc-b0b7-2f037d7c1d43",
   "metadata": {},
   "source": [
    "## Como executar código escrito em Python ##\n",
    "\n",
    "Um ponto de partida para criar seu ambiente de desenvolvimento pode ser instalar a ferramenta [Anaconda](https://conda.io/projects/conda/en/latest/user-guide/index.html)\n",
    "\n",
    "Basicamente dispomos de quatro mecanismos para executar código escrito em __Python__\n",
    "* O interpretador Python: Disponível nas principais distribuições, o interpretador pode ser utilizado de forma simples e é bastante conveniente para experimentar pequenos fragmentos de códigos e sequências curtas de operações;\n",
    "\n",
    "<img align=\"center\" style=\"padding-right:10px;\" src=\"Imagens/fig_001.png\">\n",
    "\n",
    "* O interpretador __IPython__: Desenvolvido como um ambiente interativo (__IPython__ = _Interactive Python_) acrescenta uma série de recursos importantes ao interpretador;\n",
    "\n",
    "<img align=\"center\" style=\"padding-right:10px;\" src=\"Imagens/fig_002.png\">\n",
    "\n",
    "* Utilizando _scripts_: Para programas maiores e mais complicados é conveniente salvar o código na forma de um arquivo __.py__ que, posteriormente, pode ser executado com o interpretador;\n",
    "\n",
    "> [Exemplo](script_001.py)\n",
    "\n",
    "<img align=\"center\" style=\"padding-right:10px;\" src=\"Imagens/fig_003.png\">"
   ]
  },
  {
   "cell_type": "code",
   "execution_count": 1,
   "id": "319b3374-ff4c-4aba-b95a-4db5a07fe1ff",
   "metadata": {
    "tags": []
   },
   "outputs": [
    {
     "name": "stdout",
     "output_type": "stream",
     "text": [
      "c = a + b =  1  +  2  =  3\n"
     ]
    }
   ],
   "source": [
    "%run script_001"
   ]
  },
  {
   "cell_type": "markdown",
   "id": "ad91a665-2b4e-4ef7-8fdb-a691c3664c0d",
   "metadata": {},
   "source": [
    "* Utilizando o __Jupyter notebook__: Criado como um híbrido de um terminal interativo com um arquivo de _script_ o _notebook_ é uma mistura de código executável, texto, gráficos, e outras ferramentas interativas em um único documento."
   ]
  },
  {
   "cell_type": "markdown",
   "id": "391e364c-231f-4b1b-8e1e-5e59d145c384",
   "metadata": {},
   "source": [
    "## Uma revisão rápida da sintaxes de Python ##\n",
    "\n",
    "Veja o exemplo a seguir: "
   ]
  },
  {
   "cell_type": "code",
   "execution_count": 3,
   "id": "9afb9965-1e28-473e-9bb2-d082611972e3",
   "metadata": {
    "tags": []
   },
   "outputs": [
    {
     "name": "stdout",
     "output_type": "stream",
     "text": [
      "menores: [100, 87, 10, 49, 41]\n",
      "maiores: [131, 223, 219, 189, 225]\n"
     ]
    }
   ],
   "source": [
    "import random\n",
    "\n",
    "# definindo o ponto médio \n",
    "pontoMedio = 128\n",
    "\n",
    "# criando duas listas vazias\n",
    "menores = []; maiores = []\n",
    "\n",
    "# Separando os números entre menores e maiores\n",
    "for i in range(10):\n",
    "    pix = random.randint(0,255)\n",
    "    if(pix < pontoMedio):\n",
    "        menores.append(pix)\n",
    "    else:\n",
    "        maiores.append(pix)\n",
    "\n",
    "print(\"menores:\", menores)\n",
    "print(\"maiores:\", maiores)"
   ]
  },
  {
   "cell_type": "markdown",
   "id": "6aac6311-ff3f-4099-9bdd-d93413915b57",
   "metadata": {},
   "source": [
    "Deste pequeno exemplo podemos extrair alguns aspectos iniciais, importantes, da linguagem\n",
    "\n",
    "### Comentários em Python ###\n",
    "\n",
    "Os comentários são uma parte importante de qualquer linguagem de programação. Comentários em _Python_ são indicados pelo jogo da velha (hash - `#`) e qualquer coisa após este símbolo é ignorado pelo interpretador. Desta forma comentários podem estar na forma de uma linha separada ou no final de uma linha de código, como no exemplo a seguir. "
   ]
  },
  {
   "cell_type": "code",
   "execution_count": 4,
   "id": "4bfaa4e7-1bda-441a-9b13-414ce471ce62",
   "metadata": {
    "tags": []
   },
   "outputs": [],
   "source": [
    "pix = 128       # Operador de atribuição\n",
    "pix = pix + 2   # Operador de adição\n",
    "# Operador composto de soma a adição\n",
    "pix += 3        # equivalente a x = x + 3"
   ]
  },
  {
   "cell_type": "markdown",
   "id": "a811a5ee-3759-452b-8cdb-0256b7d7b257",
   "metadata": {},
   "source": [
    "Quando se deseja incluir um comentário de várias linhas podem ser utilizadas _strings_ delimitadas com aspas triplas (aspas simples triplas ou aspas duplas triplas) no início e no final do bloco."
   ]
  },
  {
   "cell_type": "code",
   "execution_count": 5,
   "id": "549e652b-baa5-40ca-9ecf-95c6a876525d",
   "metadata": {
    "tags": []
   },
   "outputs": [],
   "source": [
    "'''\n",
    "Isto é um comentario \n",
    "de múltiplas linnas\n",
    "'''\n",
    "pix = 5"
   ]
  },
  {
   "cell_type": "code",
   "execution_count": 6,
   "id": "39464497-612e-4b9e-af91-c7c0a9592090",
   "metadata": {
    "tags": []
   },
   "outputs": [],
   "source": [
    "\"\"\"\n",
    "Isto também é um comentario \n",
    "de múltiplas linnas\n",
    "\"\"\"\n",
    "pix = 5"
   ]
  },
  {
   "cell_type": "markdown",
   "id": "df785cbc-96c1-4d8b-975b-a4b52cdf4a5d",
   "metadata": {},
   "source": [
    "### Fim de linha encerra uma declaração ###\n",
    "\n",
    "Repare que no exemplo anterior é atribuída à variável `pix` o valor `5`. A declaração termina simplesmente com o fim de linha, ao contrário de outras linguagens como __C__, onde um finalizador (`;`) é necessário. Naqueles casos particulares em que se faz necessário continuar a declaração na próxima linha, pode-se utilizar a barra invertida ( `\\` ) , como no exemplo a seguir."
   ]
  },
  {
   "cell_type": "code",
   "execution_count": 7,
   "id": "4b33121f-7e4f-4485-8dc4-d424b05b9f94",
   "metadata": {},
   "outputs": [
    {
     "name": "stdout",
     "output_type": "stream",
     "text": [
      "128.0\n"
     ]
    }
   ],
   "source": [
    "pontoMedio = 32 + 64 + 96 \\\n",
    "    + 160 + 192 + 224\n",
    "pontoMedio = pontoMedio/6\n",
    "print(pontoMedio)"
   ]
  },
  {
   "cell_type": "markdown",
   "id": "6e950b3d-99c4-4870-af34-0e17479b2c6e",
   "metadata": {},
   "source": [
    "A declaração anterior também pode ser implementada em múltiplas linha com a utilização de parênteses. A utilização de parênteses, delimitando uma expressão,  permite continuar a declaração na próxima linha. "
   ]
  },
  {
   "cell_type": "code",
   "execution_count": null,
   "id": "83e7a52d-821b-4bc3-ac7a-e255c764f2d0",
   "metadata": {
    "tags": []
   },
   "outputs": [],
   "source": [
    "pontoMedio = (32 + 64 + 96 +\n",
    "              160 + 192 + 224)/6\n",
    "print(pontoMedio)"
   ]
  },
  {
   "cell_type": "markdown",
   "id": "bf810b13-b42b-4286-a992-57494e6cbac8",
   "metadata": {},
   "source": [
    "### Uso de indentação ###\n",
    "\n",
    "Se prestar atenção no bloco principal do primeiro exemplo pode-se constatar que fazem parte do mesmo uma estrutura de repetição com um for e uma estrutura condicional com um if/else. Trata-se de um conjunto de instruções que podem ser tratadas como uma unidade ou bloco de código. Veja o seguinte exemplo "
   ]
  },
  {
   "cell_type": "code",
   "execution_count": 8,
   "id": "aabb08e3-fe19-496b-8e90-3afa4ffe7ffb",
   "metadata": {
    "tags": []
   },
   "outputs": [
    {
     "name": "stdout",
     "output_type": "stream",
     "text": [
      "128.0\n"
     ]
    }
   ],
   "source": [
    "pontoMedio = 0\n",
    "pix = 0\n",
    "for i in range(7):\n",
    "    pix += 32\n",
    "    if (pix != 128):\n",
    "        pontoMedio += pix\n",
    "pontoMedio /= 6\n",
    "print(pontoMedio)"
   ]
  },
  {
   "cell_type": "markdown",
   "id": "24c84033-a374-403a-bd0d-c5eaa5a1b3d4",
   "metadata": {},
   "source": [
    "Em linguagens como C, os blocos de código são definidos por delimitadores específicos como as chaves `{` `}`. Em _Python_ os blocos de códigos são demarcados utilizando indentação. Os blocos de código indentados são sempre precedidos por dois pontos (`:`) no final da linha anterior.\n",
    "\n",
    "Desta forma, em _Python_, a indentação do código não é opcional. Isso torna o código legível. No entanto, um código com vários loops, ou outras construções que envolvam o uso de blocos sintácticos, aninhados será varias vezes recuado para a direita, dificultando a leitura do código.\n",
    "\n",
    "### Uso de espaço ###\n",
    "\n",
    "O espaço em branco antes do começo da linha é utilizado para indentação e tem um significado específico na linguagem: linhas indentadas pertencem a um bloco sintáctico. Já o espaço no interior da linha não tem um significado específico mas pode ser utilizado para melhorar a legibilidade do código. De forma geral os programadores _Python_ recomendam utilizar um espaço antes e depois de cada operador binário e nenhum espaço em operadores unários.\n",
    "\n",
    "### Uso de parênteses ###\n",
    "\n",
    "Os parênteses podem ser utilizados em diversos contextos. Como em outras linguagens podem ser utilizadas, por exemplo, para agrupar declarações ou operações matemáticas.   Neste contexto a expressão entre parênteses é avaliada antes, sobrepondo-se à ordem definida pela precedência de operadores. Veja a diferença entre as duas expressões utilizadas a seguir."
   ]
  },
  {
   "cell_type": "code",
   "execution_count": null,
   "id": "51a4f2fc-95ee-45b2-abc8-e5ae74fa6bbe",
   "metadata": {
    "tags": []
   },
   "outputs": [],
   "source": [
    "# Ordem definida pela precedência dos operadores\n",
    "pontoMedio = 96 + 160 / 2          # primeiro / e depois +\n",
    "print(\"Resultado 1: \", pontoMedio)\n",
    "# Ordem definida pelos parênteses\n",
    "pontoMedio = (96 + 160) / 2        # primeiro + e depois /\n",
    "print(\"Resultado 2: \", pontoMedio)"
   ]
  },
  {
   "cell_type": "markdown",
   "id": "e86a918b-4a21-44b2-8e51-ee10e8ef3822",
   "metadata": {},
   "source": [
    "Os parênteses são utilizados também para especificar que se deseja  chamar uma função. Os parênteses que seguem ao nome da função, contém os argumentos da mesma. Mesmo nos casos específicos em que a função não precisa de passagem de parâmetros, também são  utilizados os parênteses. Veja os exemplos a seguir."
   ]
  },
  {
   "cell_type": "code",
   "execution_count": null,
   "id": "809f14e1-9b51-4bf9-bd14-bdd3c4c27789",
   "metadata": {
    "tags": []
   },
   "outputs": [],
   "source": [
    "L = [32, 224, 96, 64, 192, 160]\n",
    "print(\"Lista original: \", L)  # chamando à função print\n",
    "L.sort()                      # chamando à função sort\n",
    "print(\"Lista ordenada: \", L)"
   ]
  },
  {
   "cell_type": "markdown",
   "id": "cdad8333-b04d-4e13-83d5-417da9aad60f",
   "metadata": {},
   "source": [
    "Repare que **print** é uma função que espera argumentos, o que desejamos imprimir. Já **sort** é uma função específica de listas que não recebe parâmetros. \n",
    "\n",
    "> __Leituras recomendadas__: Uma leitura interessante para quem quiser utilizar uma sintaxes padronizada é [PEP 8 -- Style Guide for Python Code](https://peps.python.org/pep-0008/)"
   ]
  },
  {
   "cell_type": "markdown",
   "id": "f6dfa597-1c5c-4970-b313-dd2cf0925a00",
   "metadata": {},
   "source": [
    "# Python: Variáveis e Objetos #\n",
    "\n",
    "Trabalhar com variáveis em __Python__ é mais simples que outras linguagens de programação. Para atribuir um valor a uma variável basta apenas colocar o nome da mesma a esquerda seguido pelo operador de atribuição (`=`) e o valor a ela atribuída a direita. \n",
    "\n",
    "Em linguagens mais tradicionais, como __C/C++__, as variáveis podem ser pensadas como um receptáculo de tamanho específico, de acordo com o tipo da variável. Desta forma, antes de atribuir qualquer valor, sempre se faz necessário declarar a variável, ou seja, definir qual tipo precisa ser utilizado (o tamanho do receptáculo). \n",
    "\n",
    "Em __Python__ as variáveis podem ser interpretadas como um ponteiro para um receptáculo apropriado para armazenar o valor que a ela está sendo atribuída. Desta forma não é necessário \"declarar\" a variável, o mesmo exigir que uma variável sempre aponte para um mesmo tipo de receptáculo. Veja o exemplo a seguir."
   ]
  },
  {
   "cell_type": "code",
   "execution_count": 9,
   "id": "0c985074-76f1-4208-b8db-40babdd536ab",
   "metadata": {
    "tags": []
   },
   "outputs": [
    {
     "name": "stdout",
     "output_type": "stream",
     "text": [
      "pix aponta para um inteiro: pix =  128\n",
      "pix aponta agora para uma string: pix =  128\n",
      "pix aponta agora para uma lista: pix =  [64, 128, 196]\n"
     ]
    }
   ],
   "source": [
    "pix = 128             # pix aponta para um inteiro\n",
    "print(\"pix aponta para um inteiro: pix = \", pix)\n",
    "pix = '128'          # pix aponta agora para uma string\n",
    "print(\"pix aponta agora para uma string: pix = \", pix)\n",
    "pix = [64, 128, 196]     # pix aponta agora para uma lista\n",
    "print(\"pix aponta agora para uma lista: pix = \", pix)"
   ]
  },
  {
   "cell_type": "markdown",
   "id": "c77b0c75-c1fd-428d-b7ab-64348c41205d",
   "metadata": {},
   "source": [
    "Podemos então definir __Python__ como uma linguagem dinamicamente tipada. Esta escolha pode ser elencada como uma das características que fazem da linguagem uma das mais simples e eficientes, em termos de desenvolvimento de código, de se utilizar. Mas tratar variáveis como ponteiros tem suas especificidade e, quando não tratado de forma adequada, pode ter consequências indesejadas. Veja o exemplo a seguir e tire suas próprias conclusões."
   ]
  },
  {
   "cell_type": "code",
   "execution_count": 10,
   "id": "95255912-6ada-48fd-a13a-4de477082f89",
   "metadata": {
    "tags": []
   },
   "outputs": [
    {
     "name": "stdout",
     "output_type": "stream",
     "text": [
      "Como podemos ver:\n",
      "L1 =  [1, 2, 3]\n",
      "e \n",
      "L2 =  [1, 2, 3]\n",
      "apontam para a mesma lista.\n",
      "Ou seja, se modificarmos a lista referenciamos por L1 ...\n",
      "estamos modificando a lista referenciada por L2 \n",
      "L2 =  [1, 2, 3, 4]\n",
      "Agora, se modoficamos receptáculo para o qual L1 esta apontando ...\n",
      "A variável L2 continua apontando para \n",
      "L2 =  [1, 2, 3, 4]\n",
      "Ao contrario de L1 que\n",
      "L1 =  Agora é uma string\n"
     ]
    }
   ],
   "source": [
    "L1 = [1, 2, 3]          # L1 aponta para uma lista\n",
    "L2 = L1                 # L2 aponta para a mesma lista que L1\n",
    "print(\"Como podemos ver:\")\n",
    "print(\"L1 = \", L1)\n",
    "print(\"e \")\n",
    "print(\"L2 = \", L2)\n",
    "print(\"apontam para a mesma lista.\")\n",
    "print(\"Ou seja, se modificarmos a lista referenciamos por L1 ...\")\n",
    "L1.append(4)            # acrescentando um elemanto na lista\n",
    "print(\"estamos modificando a lista referenciada por L2 \")\n",
    "print(\"L2 = \", L2)\n",
    "print(\"Agora, se modoficamos receptáculo para o qual L1 esta apontando ...\")\n",
    "L1 = \"Agora é uma string\"  \n",
    "print(\"A variável L2 continua apontando para \") \n",
    "print(\"L2 = \", L2)\n",
    "print(\"Ao contrario de L1 que\")\n",
    "print(\"L1 = \", L1)"
   ]
  },
  {
   "cell_type": "markdown",
   "id": "c7c71eba-2569-46b2-b532-4484ecb21e92",
   "metadata": {},
   "source": [
    "O tratamento de variáveis em __Python__ também utiliza o conceito de variáveis __mutáveis__ e Imutáveis. Para simplificar o tratamento das operações aritméticas, em __Python__ os números, strings e outros tipos de variáveis simples são tratados como __imutáveis__. Isto significa que não é possível mudar os valores armazenados na variável mas, apenas, mudar para qual espaço da memória está sendo referenciado. Veja o exemplo a seguir."
   ]
  },
  {
   "cell_type": "code",
   "execution_count": 11,
   "id": "535e3bbb-56c3-4e96-a188-8d3c21606ebc",
   "metadata": {
    "tags": []
   },
   "outputs": [
    {
     "name": "stdout",
     "output_type": "stream",
     "text": [
      "Inicialmente: \n",
      "pix_1 =  64\n",
      "e \n",
      "pix_2 =  64\n",
      "Após incrmentar o valor de pix_1 em 1 temos que ...\n",
      "Agora\n",
      "pix_1 =  65\n",
      "enquanto \n",
      "pix_2 =  64\n"
     ]
    }
   ],
   "source": [
    "# Exemplo com variáveis imutáveis\n",
    "pix_1 = 64          # pix_1 referência um inteiro\n",
    "pix_2 = pix_1       # pix_2 referência o mesmo espaço na memória\n",
    "print(\"Inicialmente: \")\n",
    "print(\"pix_1 = \", pix_1)\n",
    "print(\"e \")\n",
    "print(\"pix_2 = \", pix_2)\n",
    "print(\"Após incrmentar o valor de pix_1 em 1 temos que ...\")\n",
    "pix_1 += 1         # incrementando pix_1 em 1\n",
    "print(\"Agora\")\n",
    "print(\"pix_1 = \", pix_1)\n",
    "print(\"enquanto \")\n",
    "print(\"pix_2 = \", pix_2)"
   ]
  },
  {
   "cell_type": "markdown",
   "id": "f06ee478-64fb-40ed-8ebc-c36061907be1",
   "metadata": {},
   "source": [
    "## Todas as variáveis são Objetos ##\n",
    "\n",
    "Podemos anotar num cantinho acessível do caderno: Em __Python__, uma linguagem de programação orientada a objetos, todas as variáveis são na realidade referências a objetos. Se alguém teve até aqui a ideia de que __Python__ é uma linguagem livre de tipos ou fracamente tipada, pode mudar seus conceitos a respeito. Veja o seguinte exemplo que utiliza tipos simples."
   ]
  },
  {
   "cell_type": "code",
   "execution_count": 12,
   "id": "ae3465c0-36ef-4f90-9eff-b09ba584f338",
   "metadata": {
    "tags": []
   },
   "outputs": [
    {
     "name": "stdout",
     "output_type": "stream",
     "text": [
      "O valor de x =  4.5\n",
      "O tipo de x é <class 'float'>\n",
      "O valor de i =  4\n",
      "O tipo de i é <class 'int'>\n",
      "Qem lembra de números complexos ou imaginarios?\n",
      "4.5 + 0.0 i\n",
      "Ainda que o tipo de x continua sendo  <class 'float'>\n",
      "Podemos testar também os métodos desta clase\n",
      "Por exemplo: x é um valor inteiro?  False\n",
      "Mas se mudamos o valor de x para x =  4.0\n",
      "Agora: x é um inteiro?  True\n"
     ]
    }
   ],
   "source": [
    "x = 4.5    # x referencia um valor de ponto flutuante\n",
    "i = 4      # i referencia um valor inteiro \n",
    "print(\"O valor de x = \", x)\n",
    "print(\"O tipo de x é\", type(x))\n",
    "print(\"O valor de i = \", i)\n",
    "print(\"O tipo de i é\", type(i))\n",
    "# Como instância da classe float x pode ser tratado como \n",
    "print(\"Qem lembra de números complexos ou imaginarios?\")\n",
    "print(x.real, \"+\", x.imag, \"i\")\n",
    "print(\"Ainda que o tipo de x continua sendo \", type(x))\n",
    "print(\"Podemos testar também os métodos desta clase\")\n",
    "print(\"Por exemplo: x é um valor inteiro? \", x.is_integer())\n",
    "x = 4.0\n",
    "print(\"Mas se mudamos o valor de x para x = \", x)\n",
    "print(\"Agora: x é um inteiro? \", x.is_integer())"
   ]
  },
  {
   "cell_type": "markdown",
   "id": "07da19d5-abee-4086-8996-0a4e28388592",
   "metadata": {},
   "source": [
    "A afirmação todo em __Python__ é objeto pode ser estendida aos atributos e métodos de uma classe que são, por sua vez, objetos com seus próprios atributos  métodos. Por exemplo:"
   ]
  },
  {
   "cell_type": "code",
   "execution_count": 13,
   "id": "3baa411f-ed50-4b74-be61-89b3d4827f8e",
   "metadata": {
    "tags": []
   },
   "outputs": [
    {
     "name": "stdout",
     "output_type": "stream",
     "text": [
      "<class 'builtin_function_or_method'>\n",
      "<class 'bool'>\n",
      "<class 'float'>\n"
     ]
    }
   ],
   "source": [
    "print(type(x.is_integer))    # Uma função (o método da classe) \n",
    "print(type(x.is_integer()))  # O tipo de retorno da função\n",
    "print(type(x.real))          # Um atributo da classe"
   ]
  },
  {
   "cell_type": "markdown",
   "id": "05a0d8ac-39aa-4527-9b7d-8cc730ae620d",
   "metadata": {},
   "source": [
    "# Python: Operadores #\n",
    "\n",
    "Após esclarecermos de forma resumida como se trabalha com variáveis em __Python__, e antes de revisar os diferentes tipos básicos disponíveis, vamos analisar os operadores que estão disponíveis para processar os dados armazenados nestas variáveis.\n",
    "\n",
    "## Operadores aritméticos ##\n",
    "\n",
    "Em __Python__ são implementados um conjunto básico de operadores binários e unários, comumente utilizadas em outras linguagens. \n",
    "\n",
    "\n",
    "| Operador     | Nome             | Descrição                                       |\n",
    "|--------------|------------------|-------------------------------------------------|\n",
    "| `a + b`      | Adição           | Soma de `a` e `b`                               |\n",
    "| `a - b`      | Subtração        | Diferença entre `a` e `b`                       |\n",
    "| `a * b`      | Multiplicação    | Producto de `a` e `b`                           |\n",
    "| `a / b`      | Divisão real     | Quociente de `a` e `b`                          |\n",
    "| `a // b`     | Divisão truncada | Quociente de `a` e `b`, removendo a parte fracionária|\n",
    "| `a % b`      | Módulo           | Resto inteiro da divisão de `a` por `b`         |\n",
    "| `a ** b`     | Exponenciação    | `a` elevado à potência de `b`                   |\n",
    "| `-a`         | Unário negativo  | O negativo de `a`                               |\n",
    "\n",
    "Estes operadores pode ser utilizado de forma individual ou combinados e agrupados pelas regras de precedência, ou utilizando parênteses. As regras de precedência dos operadores aritméticos estabelece que, em uma expressão que envolva diferentes operadores, serão avaliadas primeiramente as expressões dentro de parênteses e  depois aquelas que utilizam o operador de exponenciação. Posteriormente são avaliadas aquelas que envolvem os operadores unários de sinal e somente depois as operações de multiplicação, divisão e resto da divisão, que possuem a mesma ordem de precedência. Operações de adição e subtração serão as últimas a serem avaliadas. Quando uma expressão envolver mais de um operador com a mesma ordem de precedência, a mesma é avaliada da esquerda para direita.  \n",
    "\n",
    "Uma novidade, em relação a outras linguagens de programação, é a existência de dois operadores para a divisão. Nas primeiras versões de __Python__ (__Python 2__) operador de divisão se comportava de acordo com as variáveis envolvidas na expressão:\n",
    "\n",
    "* Quando a expressão envolve apenas variáveis inteiras se implementa a divisão truncada que retorna um valor inteiro;\n",
    "* Quando a expressão envolve pelo menos uma variável de ponto flutuante se implementa a divisão real que retorna um valor fracionário;\n",
    "\n",
    "O novo operador de divisão real, implementados a partir de __Python 3__, independe da natureza das variáveis numéricas envolvidas e sempre retornam um valor de ponto flutuante. Veja os exemplos a seguir"
   ]
  },
  {
   "cell_type": "code",
   "execution_count": 14,
   "id": "41975e6c-08f5-4088-a28b-0a77595cda40",
   "metadata": {
    "tags": []
   },
   "outputs": [
    {
     "name": "stdout",
     "output_type": "stream",
     "text": [
      "1 / 3     ->  0.3333333333333333\n",
      "6 / 3     ->  2.0\n",
      "256 / 10     ->  25.6\n",
      "1 / 3.0   ->  0.3333333333333333\n",
      "6.0 / 3   ->  2.0\n",
      "256.0 / 0.5 ->  512.0\n"
     ]
    }
   ],
   "source": [
    "#Divisão real\n",
    "print(\"1 / 3     -> \", 1 / 3)      # variáveis inteiras \n",
    "print(\"6 / 3     -> \", 6 / 3)\n",
    "print(\"256 / 10     -> \", 256 / 10)\n",
    "print(\"1 / 3.0   -> \", 1 / 3.0)    # variáveis de ponto flutuante\n",
    "print(\"6.0 / 3   -> \" , 6.0 / 3)\n",
    "print(\"256.0 / 0.5 -> \", 256.0 / 0.5)"
   ]
  },
  {
   "cell_type": "markdown",
   "id": "7bcd1814-dd79-42b1-80b2-0b88bd08fe85",
   "metadata": {},
   "source": [
    "Já o operador de divisão truncada preserva o comportamento do operador de divisão tradicional. Veja os exemplos."
   ]
  },
  {
   "cell_type": "code",
   "execution_count": 15,
   "id": "c1788b7d-0050-4bde-af7f-534ff6c349dd",
   "metadata": {
    "tags": []
   },
   "outputs": [
    {
     "name": "stdout",
     "output_type": "stream",
     "text": [
      "1 // 3     ->  0\n",
      "6 // 3     ->  2\n",
      "256 // 10     ->  25\n",
      "1 // 3.0   ->  0.0\n",
      "6.0 // 3   ->  2.0\n",
      "256.0 // 0.5 ->  512.0\n"
     ]
    }
   ],
   "source": [
    "#Divisão truncada\n",
    "print(\"1 // 3     -> \", 1 // 3)      # variáveis inteiras \n",
    "print(\"6 // 3     -> \", 6 // 3)\n",
    "print(\"256 // 10     -> \", 256 // 10)\n",
    "print(\"1 // 3.0   -> \", 1 // 3.0)    # variáveis de ponto flutuante\n",
    "print(\"6.0 // 3   -> \" , 6.0 // 3)\n",
    "print(\"256.0 // 0.5 -> \", 256.0 // 0.5)"
   ]
  },
  {
   "cell_type": "markdown",
   "id": "bf377526-a5e8-4613-9ec5-d08ad76ddfd9",
   "metadata": {},
   "source": [
    "## Operadores bit a bit ##\n",
    "\n",
    "Complementando os operadores aritméticos, __Python__ define um conjunto de operadores que permitem trabalhar operações lógicas bit a bit em variáveis inteiras.\n",
    "\n",
    "| Operador     | Nome            | Descrição                                 |\n",
    "|--------------|-----------------|---------------------------------------------|\n",
    "| `a & b`    | AND bit a bit   | Bits igualmente definidos em `a` e `b`        |\n",
    "| <code>a &#124; b</code>| OR bit a bit   | Bits definidos em `a` ou em `b` ou em ambos |\n",
    "| `a ^ b`    | XOR bit a bit   | Bits definidos em `a` ou em `b` mas não em ambos     |\n",
    "| `a << b`   | Deslocamento à esquerda | Desloca os bits de `a` à esquerda `b` unidades     |\n",
    "| `a >> b`   | Deslocamento à direita | Desloca os bits de `a` à direita `b` unidades    |\n",
    "| `~a`       | NOT bit a bit     | Negação bit a bit de `a`                          |\n",
    "\n",
    "\n",
    "Os operadores bit a bit somente fazem sentido quando trabalhamos os valores inteiros utilizando sua representação em binário. Cada bit pode estar associado com algum tipo de informação específica (um interruptor ligado, um gene activado, ...). Neste caso podemos trabalhar os bits individualmente de forma bastante eficiente. \n",
    "\n",
    "Imaginemos, por exemplo, que cada um dos bits de um inteiro representam genes ativados ou não numa determinada sequência genética. "
   ]
  },
  {
   "cell_type": "code",
   "execution_count": 16,
   "id": "f696be44-3bc6-40f9-888b-46936442d524",
   "metadata": {
    "tags": []
   },
   "outputs": [
    {
     "data": {
      "text/plain": [
       "'0b1111000'"
      ]
     },
     "execution_count": 16,
     "metadata": {},
     "output_type": "execute_result"
    }
   ],
   "source": [
    "# Quais genes estão ativados no individuo com sequencia 120?\n",
    "ind_1 = 120\n",
    "bin(ind_1)"
   ]
  },
  {
   "cell_type": "code",
   "execution_count": 17,
   "id": "dd416ffe-7d19-4a19-a514-b54b27f37a74",
   "metadata": {
    "tags": []
   },
   "outputs": [
    {
     "data": {
      "text/plain": [
       "'0b111111'"
      ]
     },
     "execution_count": 17,
     "metadata": {},
     "output_type": "execute_result"
    }
   ],
   "source": [
    "#Quais genes estão ativados no individuo com sequencia 63?\n",
    "ind_2 = 63\n",
    "bin(ind_2)"
   ]
  },
  {
   "cell_type": "code",
   "execution_count": 18,
   "id": "1d97e627-bc2e-414d-b393-4fd581a7c9c8",
   "metadata": {
    "tags": []
   },
   "outputs": [
    {
     "name": "stdout",
     "output_type": "stream",
     "text": [
      "      120  ->  0b1111000\n",
      "      63   ->   0b111111\n",
      "AND:  56   ->   0b111000\n",
      "_________________________________________\n",
      "      120  ->  0b1111000\n",
      "      63   ->   0b111111\n",
      "OR :  127  ->  0b1111111\n",
      "_________________________________________\n",
      "      120  ->  0b1111000\n",
      "      63   ->   0b111111\n",
      "XOR:  71   ->  0b1000111\n",
      "_________________________________________\n",
      "63  ->  0b111111\n",
      "62  ->  0b111110\n",
      "_________________________________________\n"
     ]
    }
   ],
   "source": [
    "# Quais genes estão ativados em ambos indivíduos?\n",
    "print(\"     \", ind_1 , \" -> \", bin(ind_1))\n",
    "print(\"     \", ind_2 , \"  ->  \", bin(ind_2))\n",
    "print(\"AND: \", ind_1 & ind_2, \"  ->  \", bin(ind_1 & ind_2))\n",
    "print(\"_________________________________________\")\n",
    "# Quais genes estão ativados em um ou em outro indivíduo?\n",
    "print(\"     \", ind_1 , \" -> \", bin(120))\n",
    "print(\"     \", ind_2 , \"  ->  \", bin(ind_2))\n",
    "print(\"OR : \", ind_1 | ind_2, \" -> \", bin(ind_1 | ind_2))\n",
    "print(\"_________________________________________\")\n",
    "# Quais genes estão ativados em um ou em outro indivíduo mas não em ambos?\n",
    "print(\"     \", ind_1 , \" -> \", bin(ind_1))\n",
    "print(\"     \", ind_2 , \"  ->  \", bin(ind_2))\n",
    "print(\"XOR: \", ind_1 ^ ind_2, \"  -> \", bin(ind_1 ^ ind_2))\n",
    "# Garanta que o gene mais a direita do segundo indivíduo esteja desligado\n",
    "print(\"_________________________________________\")\n",
    "print(ind_2, \" -> \", bin(ind_2))\n",
    "ind_2 = (ind_2 >> 1) << 1\n",
    "print(ind_2, \" -> \", bin(ind_2))\n",
    "print(\"_________________________________________\")"
   ]
  },
  {
   "cell_type": "markdown",
   "id": "e9f4802e-3ea3-4381-b2c4-e8e1a61909ec",
   "metadata": {},
   "source": [
    "## Operador de atribuição\n",
    "\n",
    "Até agora utilizamos o operador `=`, de forma natural, como operador de atribuição. Entretanto, nas variáveis imutáveis como as numéricas,  no momento da atribuição não está se atualizando ou alterando o valor contido no espaço de memória referenciado pela a variável, como acontece em outras linguagens mais tradicionais. Trata-se de uma atualização do objeto que está sendo referenciado. \n",
    "\n",
    "Quando utilizado em conjunto com os operadores binários, apresentados anteriormente, o operador de atribuição funciona como um operador composto. Ou seja: para cada operador binário `#`, é possível substituir a operação `a = a # b` por `a #= b`. Desta forma teremos\n",
    "\n",
    "\n",
    "| Operador | Exemplo | Equivalente|\n",
    "|----------|---------|------------|\n",
    "|   `+=`     |  `a += b`| `a = a + b`    | \n",
    "|`-=` |`a -= b`| `a = a - b`|\n",
    "|`*=` |`a *= b`| `a = a * b`|  \n",
    "|`/=` |  `a /= b`| `a = a / b` |\n",
    "|`//=` |`a //= b`| `a = a //  b` | \n",
    "|`%=` | `a %= b`| `a = a % b ` | \n",
    "|` **= ` | `a **= b`| `a = a ** b `| \n",
    "|`&=` | `a &= b`| `a = a & b` |\n",
    "| <code> &#124;= </code> | <code> a &#124;= b </code>| <code> a = a &#124; b </code>|\n",
    "| `ˆ=` |`a ^= b`| `a = a ˆ b` |\n",
    "| `<<=` |`a <<= b`| `a = a << b `|\n",
    "| `>>=` |`a >>= b`| `a = a >> b` |\n",
    "\n"
   ]
  },
  {
   "cell_type": "markdown",
   "id": "858bf9be-4ef3-4653-a219-3194e3ad011f",
   "metadata": {},
   "source": [
    "## Operadores lógicos e relacionais\n",
    "\n",
    "Para trabalhar expressões de comparação  __Python__ implementa um conjunto de operadores básicos que retornam `True` ou `False`.\n",
    "\n",
    "\n",
    "| Operação      | Descrição                 | Operação      | Descrição                 |\n",
    "|---------------|---------------------------|---------------|---------------------------|\n",
    "| `a == b`      | `a` igual a `b`           | `a != b`      | `a` diferente de `b`      |\n",
    "| `a < b`       | `a` menor que `b`         | `a > b`       | `a` maior que `b`         |\n",
    "| `a <= b`      | `a` menor ou igual que `b`| `a >= b`      | `a` maior ou igual que `b`|\n",
    "\n",
    "Veja alguns exemplos que combinam operadores aritméticos e relacionais:"
   ]
  },
  {
   "cell_type": "code",
   "execution_count": 19,
   "id": "5adcf9c9-aa0f-4673-9b6d-cbf09bc65d76",
   "metadata": {
    "tags": []
   },
   "outputs": [
    {
     "name": "stdout",
     "output_type": "stream",
     "text": [
      " 6 / 5 > 7 / 8 ->  True\n",
      " 6 / 5 < 7 / 8 ->  False\n",
      " 6 / 5 == 7 / 8 ->  False\n",
      " 6 / 5 != 7 / 8 ->  True\n",
      " 6 / 5 >= 7 / 8 ->  True\n",
      " 6 / 5 <= 7 / 8 ->  False\n"
     ]
    }
   ],
   "source": [
    "a = 6 / 5\n",
    "b = 7 / 8\n",
    "print( \" 6 / 5 > 7 / 8 -> \", a > b)\n",
    "print( \" 6 / 5 < 7 / 8 -> \", a < b)\n",
    "print( \" 6 / 5 == 7 / 8 -> \", a == b)\n",
    "print( \" 6 / 5 != 7 / 8 -> \", a != b)\n",
    "print( \" 6 / 5 >= 7 / 8 -> \", a >= b)\n",
    "print( \" 6 / 5 <= 7 / 8 -> \", a <= b)"
   ]
  },
  {
   "cell_type": "code",
   "execution_count": 20,
   "id": "a7d4950e-4b0b-4410-a8df-826b8c95aa8e",
   "metadata": {
    "tags": []
   },
   "outputs": [
    {
     "name": "stdout",
     "output_type": "stream",
     "text": [
      "6 é um número par? ->  True\n",
      " e 7 é par? ->  False\n"
     ]
    }
   ],
   "source": [
    "print(\"6 é um número par? -> \", (6 % 2) == 0)\n",
    "print(\" e 7 é par? -> \", (7 % 2) == 0)"
   ]
  },
  {
   "cell_type": "markdown",
   "id": "79665850-1f92-40f0-9825-414862b6874b",
   "metadata": {},
   "source": [
    "Veja um exemplo um pouco mais complexo de uso de operadores relacionais. "
   ]
  },
  {
   "cell_type": "code",
   "execution_count": 21,
   "id": "687b2674-f99f-45e1-bee8-cc97f76141ba",
   "metadata": {
    "tags": []
   },
   "outputs": [
    {
     "name": "stdout",
     "output_type": "stream",
     "text": [
      "Valores de L dentro do intervalo fechado (15, 30)\n",
      "15 <  10  < 30 ->  False\n",
      "15 <  25  < 30 ->  True\n",
      "15 <  40  < 30 ->  False\n"
     ]
    }
   ],
   "source": [
    "L = [ 10, 25, 40]\n",
    "print(\"Valores de L dentro do intervalo fechado (15, 30)\")\n",
    "for x in L:\n",
    "    print(\"15 < \", x, \" < 30 -> \", 15 < x < 30) "
   ]
  },
  {
   "cell_type": "markdown",
   "id": "f512fc59-4655-42ca-b282-fee2aa15c613",
   "metadata": {},
   "source": [
    "As operações envolvendo variáveis com valores booleanos, muitas vezes precisam ser combinadas. Para trabalhar estas operações de álgebra booleana estão implementados os operadores básicos `and`, `or` e `not`. O operador `xor` lógico não está explicitamente definido na linguagem."
   ]
  },
  {
   "cell_type": "code",
   "execution_count": 22,
   "id": "3f2cd52c-aac2-4e80-ac91-b1bfdcd32ac1",
   "metadata": {
    "tags": []
   },
   "outputs": [
    {
     "name": "stdout",
     "output_type": "stream",
     "text": [
      "Valores de L dentro do intervalo fechado (15, 30)\n",
      "15 <  10  < 30 ->  False\n",
      "15 <  25  < 30 ->  True\n",
      "15 <  40  < 30 ->  False\n"
     ]
    }
   ],
   "source": [
    "print(\"Valores de L dentro do intervalo fechado (15, 30)\")\n",
    "for x in L:\n",
    "    print(\"15 < \", x, \" < 30 -> \", (15 < x) and (x < 30))"
   ]
  },
  {
   "cell_type": "code",
   "execution_count": 23,
   "id": "c2de3a8a-3c42-4811-88ac-fcd174eef29e",
   "metadata": {
    "tags": []
   },
   "outputs": [
    {
     "name": "stdout",
     "output_type": "stream",
     "text": [
      "Valores de L fora do intervalo fechado (15, 30)\n",
      "15 >=  10  >= 30 ->  True\n",
      "15 >=  25  >= 30 ->  False\n",
      "15 >=  40  >= 30 ->  True\n"
     ]
    }
   ],
   "source": [
    "print(\"Valores de L fora do intervalo fechado (15, 30)\")\n",
    "for x in L:\n",
    "    print(\"15 >= \", x, \" >= 30 -> \", (15 >= x) or (x >= 30))"
   ]
  },
  {
   "cell_type": "markdown",
   "id": "4849545e-f384-4714-8bd0-007f88adcd46",
   "metadata": {},
   "source": [
    "## Operadores identidade e pertence \n",
    "\n",
    "Python introduz também dois operadores particularmente importantes que serão muito utilizados. Estes operadores permitam avaliar se duas referências estão se apontando ao mesmo objeto (operador identidade) e se u um objeto pertence a um conjunto.  \n",
    "\n",
    "| Operador      | Descrição                                         |\n",
    "|---------------|---------------------------------------------------|\n",
    "| `a is b`    | `True` se `a`  e `b` são objetos idênticos       |\n",
    "| `a is not b`| `True` se `a` e `b` não são objetos idênticos   |\n",
    "| `a in b`    | `True` se `a` é membro do conjunto `b`          |\n",
    "| `a not in b`| True se `a` não é membro do conjunto `b`      |\n",
    "\n",
    "Importante ressaltar que objetos idênticos não é a mesma coisa que objetos iguais. Veja o seguinte exemplo."
   ]
  },
  {
   "cell_type": "code",
   "execution_count": 24,
   "id": "1c0e950e-5b4b-4756-815d-97fc4207283b",
   "metadata": {
    "tags": []
   },
   "outputs": [
    {
     "name": "stdout",
     "output_type": "stream",
     "text": [
      "L:  [10, 25, 40]\n",
      "Lc:  [10, 25, 40]\n",
      "1 - L é igual a Lc? True\n",
      "2 - L é idêntico a Lc? False\n",
      "3 - L é igual a Lc? True\n",
      "4 - L é idêntico a Lc? True\n"
     ]
    }
   ],
   "source": [
    "Lc = [10, 25, 40]\n",
    "print(\"L: \", L)\n",
    "print(\"Lc: \", Lc)\n",
    "print(\"1 - L é igual a Lc?\", L == Lc)\n",
    "print(\"2 - L é idêntico a Lc?\", L is Lc)\n",
    "Lc = L\n",
    "print(\"3 - L é igual a Lc?\", L == Lc)\n",
    "print(\"4 - L é idêntico a Lc?\", L is Lc)"
   ]
  },
  {
   "cell_type": "markdown",
   "id": "0cffbc5d-4ce6-46dc-89ac-51064878dd99",
   "metadata": {},
   "source": [
    "O operador `in` é um exemplo clássico dos recursos que fazem de __Python__ um linguagem de fácil leitura e escrita. As operações de busca em conjuntos são, de forma geral, implementadas utilizando estruturas de repetição custosas e, geralmente, de difícil leitura. Veja estes exemplos simples e que funcionam de forma eficiente.   "
   ]
  },
  {
   "cell_type": "code",
   "execution_count": 25,
   "id": "d90791d6-cefe-41ab-a9c5-6f3e950dad33",
   "metadata": {
    "tags": []
   },
   "outputs": [
    {
     "name": "stdout",
     "output_type": "stream",
     "text": [
      "L:  [10, 25, 40]\n",
      "5 pertence a L? False\n",
      "5 não pertence a L? True\n",
      "25 pertence a L? True\n",
      "37 não pertence a L? True\n"
     ]
    }
   ],
   "source": [
    "print(\"L: \", L)\n",
    "print(\"5 pertence a L?\", 5 in L)\n",
    "print(\"5 não pertence a L?\", 5 not in L)\n",
    "print(\"25 pertence a L?\", 25 in L)\n",
    "print(\"37 não pertence a L?\", 37 not in L)"
   ]
  },
  {
   "cell_type": "markdown",
   "id": "d22d68f3-5be7-40dc-be8d-e0cd11d7ea9b",
   "metadata": {},
   "source": [
    "Para finalizar veja a tabela a seguir que apresenta os operadores em ordem decrescente de precedência em __Python__\n",
    "\n",
    "\n",
    "| Operador | Descrição                     |\n",
    "|-----------|-----------------------|\n",
    "| `()`             |   Parênteses               |\n",
    "| `**`             |   Exponenciação        |\n",
    "| `+x`, `-x`, `~x` | Unário positivo, unário negativo, NOT bit a bit |\n",
    "| `*`, `/`, `//`, `%`  | Multiplicação, Divisão real, Divisão truncada, Módulo |\n",
    "| `+`, `-`              |  Adição, Subtração|\n",
    "|  `<<`, `>>`     | Deslocamentos bit a bit |\n",
    "| `&`         | Operador `AND` bit a bit   |\n",
    "| `^`        |  Operador `XOR` bit a bit    |\n",
    "| <code> &#124; </code>          | Operador `OR` bit a bot |\n",
    "| `==`, `!=`, `>`, `>=`, `<`, `<=`, `is`, `is not`, `in`, `not in` | Operadores relacionais, identidade e pertence |\n",
    "| `not` | Operador `NOT` lógico |\n",
    "| `and` | Operador AND`lógico |\n",
    "| `or` | Operador ÒR`lógico |\n"
   ]
  },
  {
   "cell_type": "markdown",
   "id": "849d6e85-7062-4141-9c16-21ea963a3584",
   "metadata": {},
   "source": [
    "# Tipos nativos da dados\n",
    "\n",
    "Vamos começar comentando os tipos nativos de dados mais simples.\n",
    "\n",
    "| Type        | Example        | Description                                                  |\n",
    "|-------------|----------------|--------------------------------------------------------------|\n",
    "| ``int``     | ``x = 1``      | Números inteiros                                             |\n",
    "| ``float``   | ``x = 1.0``    | Números de ponto flutuante                                   |\n",
    "| ``complex`` | ``x = 1 + 2j`` | Números complexos                                            |\n",
    "| ``bool``    | ``x = True``   | Valores booleanos (True ou False)                            |\n",
    "| ``str``     | ``x = 'abc'``  | Cadeias de caracteres, Strings                               |\n",
    "| ``NoneType``| ``x = None``   | Objeto especial indicando null                               |\n",
    "\n",
    "Falaremos um pouco mais sobre cada um destes tipos\n",
    "\n",
    "## Números Inteiros\n",
    "\n",
    "O tipo numérico mais simples é aquele que representa valores sem caças decimais. Estes valores são representados pela classe `int` que implementa um tipo imutável de dado."
   ]
  },
  {
   "cell_type": "code",
   "execution_count": 26,
   "id": "c93d64e6-fcd9-472d-887c-8c6ce038e0b6",
   "metadata": {
    "tags": []
   },
   "outputs": [
    {
     "name": "stdout",
     "output_type": "stream",
     "text": [
      "A variavel a armazena o valor  1  e é de tipo:  <class 'int'>\n"
     ]
    }
   ],
   "source": [
    "a = 1\n",
    "print(\"A variavel a armazena o valor \", a, \" e é de tipo: \", type(a))"
   ]
  },
  {
   "cell_type": "markdown",
   "id": "8a9a5ebf-5443-48e3-adcd-a41b8faedbd3",
   "metadata": {},
   "source": [
    "O tipo inteiros em __Python__ tem características importantes que o destacam de tipos equivalentes em outras linguagens. Pode-se começar , as linguagens imperativas tradicionais tratam os tipos inteiros como valores de tamanho fixo e geram condições de _overflow_ para valores acima de determinado limite. Em __Python__ os inteiros têm tamanho variável e podendo, sem nenhum problema, realizar operações com valores muito grandes."
   ]
  },
  {
   "cell_type": "code",
   "execution_count": 27,
   "id": "6320a46f-c7e7-4ccf-b7a8-4e0263af8ae5",
   "metadata": {
    "tags": []
   },
   "outputs": [
    {
     "data": {
      "text/plain": [
       "1606938044258990275541962092341162602522202993782792835301376"
      ]
     },
     "execution_count": 27,
     "metadata": {},
     "output_type": "execute_result"
    }
   ],
   "source": [
    "2**200"
   ]
  },
  {
   "cell_type": "markdown",
   "id": "c5d92298-c7d4-40b5-b310-08988ea4dbed",
   "metadata": {},
   "source": [
    "Importante lembrar que os operadores aritméticos se aplicam a operações com inteiros gerando um novo valor, também inteiro. A exceção é o operador divisão real (`/`) que sempre gera um valor de ponto flutuante. "
   ]
  },
  {
   "cell_type": "code",
   "execution_count": 28,
   "id": "4b7bc29d-5a01-416e-a585-4b00c9208f4f",
   "metadata": {
    "tags": []
   },
   "outputs": [
    {
     "name": "stdout",
     "output_type": "stream",
     "text": [
      "a + b =  5  +  2  =  7 :  <class 'int'>\n",
      "a - b =  5  -  2  =  3 :  <class 'int'>\n",
      "a * b =  5  *  2  =  10 :  <class 'int'>\n",
      "a ** b =  5  **  2  =  25 :  <class 'int'>\n",
      "a / b =  5  /  2  =  2.5 :  <class 'float'>\n",
      "a // b =  5  //  2  =  2 :  <class 'int'>\n",
      "a % b =  5  %  2  =  1 :  <class 'int'>\n"
     ]
    }
   ],
   "source": [
    "a = 5\n",
    "b = 2\n",
    "print(\"a + b = \", a, \" + \", b, \" = \", a + b, \": \", type(a + b))\n",
    "print(\"a - b = \", a, \" - \", b, \" = \", a - b, \": \", type(a - b))\n",
    "print(\"a * b = \", a, \" * \", b, \" = \", a * b, \": \", type(a * b))\n",
    "print(\"a ** b = \", a, \" ** \", b, \" = \", a ** b, \": \", type(a ** b))\n",
    "print(\"a / b = \", a, \" / \", b, \" = \", a / b, \": \", type(a / b))\n",
    "print(\"a // b = \", a, \" // \", b, \" = \", a // b, \": \", type(a // b))\n",
    "print(\"a % b = \", a, \" % \", b, \" = \", a % b, \": \", type(a % b))"
   ]
  },
  {
   "cell_type": "markdown",
   "id": "7b950e28-cae9-4c18-ab82-22c91129047c",
   "metadata": {},
   "source": [
    "## Números de Ponto Flutuante\n",
    "\n",
    "Para tratar de valores com caças decimais são utilizados os números de ponto flutuante. \n",
    "Os números de ponto flutuante podem ser representados em notação decimal tradicional ou em notação científica. Veja os exemplos a seguir."
   ]
  },
  {
   "cell_type": "code",
   "execution_count": 29,
   "id": "a1527cfe-81bc-40ce-8aca-ee30a5dbbe97",
   "metadata": {
    "tags": []
   },
   "outputs": [
    {
     "name": "stdout",
     "output_type": "stream",
     "text": [
      "True\n"
     ]
    }
   ],
   "source": [
    "x = 0.00001\n",
    "y = 1e-5   # Pode utilizar e ou E\n",
    "print(x == y)"
   ]
  },
  {
   "cell_type": "code",
   "execution_count": 30,
   "id": "4925da8f-5999-45f0-9341-4546b8b91797",
   "metadata": {
    "tags": []
   },
   "outputs": [
    {
     "name": "stdout",
     "output_type": "stream",
     "text": [
      "True\n"
     ]
    }
   ],
   "source": [
    "x = 1400000.00\n",
    "y = 1.4E6  # Pode utilizar e ou E\n",
    "print(x == y)"
   ]
  },
  {
   "cell_type": "markdown",
   "id": "65af7b3a-122c-4fb6-950c-f8a56f746b43",
   "metadata": {},
   "source": [
    "A representação computacional de valores de ponto flutuante impõe limitações na utilização da aritmética de ponto flutuante. Estas limitações independem da linguagem utilizada e tem a ver com a quantidade de bits utilizados na representação dos valores. Veja o exemplo a seguir e comente."
   ]
  },
  {
   "cell_type": "code",
   "execution_count": 31,
   "id": "1b9c0f9e-b2c6-4ed4-a0ba-466a3cddb219",
   "metadata": {
    "tags": []
   },
   "outputs": [
    {
     "data": {
      "text/plain": [
       "False"
      ]
     },
     "execution_count": 31,
     "metadata": {},
     "output_type": "execute_result"
    }
   ],
   "source": [
    "0.1 + 0.2 == 0.3"
   ]
  },
  {
   "cell_type": "markdown",
   "id": "dcb557c0-515a-4e01-a70c-8f66a143f034",
   "metadata": {},
   "source": [
    "Veja como estes valores são realmente representados. Para isto vasta agregar algumas caças decimais na hora de imprimir."
   ]
  },
  {
   "cell_type": "code",
   "execution_count": 32,
   "id": "00767747-3cb9-44b5-a2ba-5266caedfe18",
   "metadata": {
    "tags": []
   },
   "outputs": [
    {
     "name": "stdout",
     "output_type": "stream",
     "text": [
      "0.1 = 0.10000000000000001\n",
      "0.2 = 0.20000000000000001\n",
      "0.3 = 0.29999999999999999\n"
     ]
    }
   ],
   "source": [
    "# Veja como são representados os valores anteriores\n",
    "print(\"0.1 = {0:.17f}\".format(0.1))  # formatação que lembra o printf de c\n",
    "print(\"0.2 = {0:.17f}\".format(0.2))\n",
    "print(\"0.3 = {0:.17f}\".format(0.3))"
   ]
  },
  {
   "cell_type": "markdown",
   "id": "e77abdfb-442e-49b8-808b-2bfdfdc2f279",
   "metadata": {},
   "source": [
    "Em _Python_ os números de ponto flutuante são truncados internamente, por padrão, em 52 bits após o primeiro bit diferente de zero. Devemos então levar em consideração que a aritmética de ponto flutuante é sempre aproximada e testes de igualdade estrita não são recomendados quando envolvidas este tipo de operações.\n",
    "\n",
    "Veja mais detalhes sobre as operações com valores de ponto flutuante em [# Floating Point Arithmetic: Issues and Limitations](https://docs.python.org/3/tutorial/floatingpoint.html)"
   ]
  },
  {
   "cell_type": "code",
   "execution_count": 33,
   "id": "91b86eb0-89c5-4215-bea1-4b38df2a3844",
   "metadata": {
    "tags": []
   },
   "outputs": [
    {
     "name": "stdout",
     "output_type": "stream",
     "text": [
      "a + b =  5.1  +  2.3  =  7.3999999999999995 :  <class 'float'>\n",
      "a - b =  5.1  -  2.3  =  2.8 :  <class 'float'>\n",
      "a * b =  5.1  *  2.3  =  11.729999999999999 :  <class 'float'>\n",
      "a ** b =  5.1  **  2.3  =  42.404447108809826 :  <class 'float'>\n",
      "a / b =  5.1  /  2.3  =  2.217391304347826 :  <class 'float'>\n",
      "a // b =  5.1  //  2.3  =  2.0 :  <class 'float'>\n",
      "a % b =  5.1  %  2.3  =  0.5 :  <class 'float'>\n"
     ]
    }
   ],
   "source": [
    "a = 5.1\n",
    "b = 2.3\n",
    "print(\"a + b = \", a, \" + \", b, \" = \", a + b, \": \", type(a + b))\n",
    "print(\"a - b = \", a, \" - \", b, \" = \", a - b, \": \", type(a - b))\n",
    "print(\"a * b = \", a, \" * \", b, \" = \", a * b, \": \", type(a * b))\n",
    "print(\"a ** b = \", a, \" ** \", b, \" = \", a ** b, \": \", type(a ** b))\n",
    "print(\"a / b = \", a, \" / \", b, \" = \", a / b, \": \", type(a / b))\n",
    "print(\"a // b = \", a, \" // \", b, \" = \", a // b, \": \", type(a // b))\n",
    "print(\"a % b = \", a, \" % \", b, \" = \", a % b, \": \", type(a % b))"
   ]
  },
  {
   "cell_type": "markdown",
   "id": "8668d73f-5239-472d-91c7-74d78405bbd6",
   "metadata": {},
   "source": [
    "## Números Complexos\n",
    "\n",
    "Nos casos em que se faz necessário trabalhar com valores do domínio dos números complexos, __Python__ apresenta uma classe específica para representar este tipo de valores. Trata-se de números com parte real e imaginárias que podem ser definidos com valores inteiros ou de ponto flutuante. "
   ]
  },
  {
   "cell_type": "code",
   "execution_count": 34,
   "id": "61be97a2-432e-4bb9-b9f0-9c8b8a876533",
   "metadata": {
    "tags": []
   },
   "outputs": [
    {
     "name": "stdout",
     "output_type": "stream",
     "text": [
      "lam_1 =  (1+2j)  :  <class 'complex'>\n",
      "lam_2 =  (1+2j)  :  <class 'complex'>\n",
      "lam_1 == lam_2 ->  True\n"
     ]
    }
   ],
   "source": [
    "lam_1 = complex(1, 2)\n",
    "lam_2 = 1 + 2j;\n",
    "print(\"lam_1 = \", lam_1, \" : \", type(lam_1))\n",
    "print(\"lam_2 = \", lam_2, \" : \", type(lam_2))\n",
    "print(\"lam_1 == lam_2 -> \", lam_1 == lam_2)"
   ]
  },
  {
   "cell_type": "markdown",
   "id": "ef1514b2-c14f-4a51-8ad9-09439d567882",
   "metadata": {},
   "source": [
    "A classe `complex` implementa uma serie de atributos e métodos com características e operações básicas para tratar números complexos. Veja alguns exemplos das mesmas, assim como do uso de operadores aritméticos"
   ]
  },
  {
   "cell_type": "code",
   "execution_count": 35,
   "id": "42df8c24-54b7-4d98-b230-71736027c6bf",
   "metadata": {
    "tags": []
   },
   "outputs": [
    {
     "name": "stdout",
     "output_type": "stream",
     "text": [
      "lam_1 =  (1+2j)\n",
      "Parte real de lam_1:  1.0\n",
      "Parte imaginária de lam_1:  2.0\n",
      "O complexo conjugado de lam_1:  (1-2j)\n",
      "O môdulo e valor absoluto de lam_1:  2.23606797749979\n"
     ]
    }
   ],
   "source": [
    "print(\"lam_1 = \", lam_1)\n",
    "print(\"Parte real de lam_1: \", lam_1.real)\n",
    "print(\"Parte imaginária de lam_1: \", lam_1.imag)\n",
    "print(\"O complexo conjugado de lam_1: \", lam_1.conjugate())\n",
    "print(\"O môdulo e valor absoluto de lam_1: \", abs(lam_1))"
   ]
  },
  {
   "cell_type": "code",
   "execution_count": 36,
   "id": "d1980f36-13f2-4333-b99e-b73dd0eaecf4",
   "metadata": {
    "tags": []
   },
   "outputs": [
    {
     "name": "stdout",
     "output_type": "stream",
     "text": [
      "a + b =  (1+2j)  +  (1+3.5j)  =  (2+5.5j) :  <class 'complex'>\n",
      "a - b =  (1+2j)  -  (1+3.5j)  =  -1.5j :  <class 'complex'>\n",
      "a * b =  (1+2j)  *  (1+3.5j)  =  (-6+5.5j) :  <class 'complex'>\n",
      "a ** b =  (1+2j)  **  (1+3.5j)  =  (-0.03292376866940434-0.032705501160833324j) :  <class 'complex'>\n",
      "a / b =  (1+2j)  /  (1+3.5j)  =  (0.6037735849056604-0.11320754716981134j) :  <class 'complex'>\n"
     ]
    }
   ],
   "source": [
    "a = lam_1\n",
    "b = complex(1.0, 3.5)\n",
    "print(\"a + b = \", a, \" + \", b, \" = \", a + b, \": \", type(a + b))\n",
    "print(\"a - b = \", a, \" - \", b, \" = \", a - b, \": \", type(a - b))\n",
    "print(\"a * b = \", a, \" * \", b, \" = \", a * b, \": \", type(a * b))\n",
    "print(\"a ** b = \", a, \" ** \", b, \" = \", a ** b, \": \", type(a ** b))\n",
    "print(\"a / b = \", a, \" / \", b, \" = \", a / b, \": \", type(a / b))\n",
    "# Operações não suportadas pelo tipo complex\n",
    "#print(\"a // b = \", a, \" // \", b, \" = \", a // b, \": \", type(a // b))\n",
    "#print(\"a % b = \", a, \" % \", b, \" = \", a % b, \": \", type(a % b))"
   ]
  },
  {
   "cell_type": "markdown",
   "id": "17f658ef-48cf-4906-958b-d070aa2f2d56",
   "metadata": {},
   "source": [
    "## Cadeias de caracteres (Strings)\n",
    "\n",
    "Cadeias de caracteres ou _strins_ são amplamente utilizados em diferentes aplicações.  Podemos definir uma _string_ em __Python__ como um conjunto de caracteres delimitados utilizando aspas simples ou duplas. Os objetos de tipo _string_ representam tipos imutáveis e possuem uma serie de métodos implementados muito uteis. Veja os exemplos a seguir."
   ]
  },
  {
   "cell_type": "code",
   "execution_count": 37,
   "id": "1a85c030-0a46-48c0-baae-9738ddc0a0bc",
   "metadata": {
    "tags": []
   },
   "outputs": [
    {
     "name": "stdout",
     "output_type": "stream",
     "text": [
      "Tamanho de disciplina:  34\n",
      "Professor:  ESBEL T. VALERO ORELLANA\n",
      "Disciplina:  cet1202 - algoritmos e programação\n",
      "Alguem tem dúvidas?\n",
      "Objetos imutáveis: \n",
      "CET1202 - Algoritmos e Programação\n",
      "Esbel T. Valero Orellana\n",
      "CET1202 - Algoritmos e Programação em andamento\n",
      "+++++++++++++++++++++++++\n",
      "Código:  CET1202\n",
      "Isto é uma 'String' que contem aspas simples\n",
      "Agora a mesma \"String\" contem aspas duplas\n",
      "Não posso modificar objetos inmutáveis!!!\n",
      "CET1202 - Algoritmos e Programação\n"
     ]
    }
   ],
   "source": [
    "disciplina = \"CET1202 - Algoritmos e Programação\"\n",
    "professor = 'Esbel T. Valero Orellana'\n",
    "\n",
    "# Tamanho da string\n",
    "print(\"Tamanho de disciplina: \", len(disciplina))\n",
    "# transformando maiusculas e minusculas\n",
    "print(\"Professor: \", professor.upper())\n",
    "print(\"Disciplina: \", disciplina.lower())\n",
    "print(\"alguem tem dúvidas?\".capitalize())\n",
    "\n",
    "#Os métodos anteriores criaram novos objetos sem modificar \n",
    "#o objeto original (imutável)\n",
    "print('Objetos imutáveis: ')\n",
    "print(disciplina)\n",
    "print(professor)\n",
    "\n",
    "# Alguns operadores algebricos funcionam com Strings como:\n",
    "# Para concatenar strings\n",
    "print(disciplina + \" em andamento\")\n",
    "# Ou para repetir uma string\n",
    "print(5*\"+++++\")\n",
    "# Acessando os caracteres da string\n",
    "print(\"Código: \", disciplina[0:7])\n",
    "# Por que utilizar aspas simples ou duplas?\n",
    "stringComAspas = \"Isto é uma 'String' que contem aspas simples\"\n",
    "print(stringComAspas)\n",
    "stringComAspas = 'Agora a mesma \"String\" contem aspas duplas'\n",
    "print(stringComAspas)\n",
    "# As String são objetos inmutaveis então\n",
    "try:\n",
    "    disciplina[0] = professor[0]\n",
    "except:\n",
    "    print(\"Não posso modificar objetos inmutáveis!!!\")\n",
    "    print(disciplina)"
   ]
  },
  {
   "cell_type": "markdown",
   "id": "b1cf5942-da6c-40ef-8811-2c79ff2d59d7",
   "metadata": {},
   "source": [
    "## Tipo None\n",
    "\n",
    "O tipo __None__ pode ser comparado, pela sua funcionalidade, ao tipo __void__ do __C/C++__. Pode ser utilizado em diversos contextos mas, de forma geral, uma da suas aplicações mais frequentes é como o tipo de retorno padrão das funções. Veja o exemplo da função `print()`, lembrar que em __Python__ todo pode ser entendido como referências a objetos."
   ]
  },
  {
   "cell_type": "code",
   "execution_count": null,
   "id": "a92cd050-be27-4517-91b3-43f0a4387e8a",
   "metadata": {
    "tags": []
   },
   "outputs": [],
   "source": [
    "valor_de_retorno = print(\"Alguma coisa\")\n",
    "print(valor_de_retorno)"
   ]
  },
  {
   "cell_type": "markdown",
   "id": "78b77252-107f-45d1-ae57-069c420c970e",
   "metadata": {},
   "source": [
    "## Tipo Boolean\n",
    "\n",
    "As variáveis de tipo _boolean_ em __Python__ podem conter dois valores possíveis, `True` ou `False`. Normalmente este é o tipo retornado pelos operadores relacionais. Variáveis _booleans_ também podem ser construídas via _casting_ explícito a partir de variáveis numéricas. Para os herdeiros de __C/C++__, qualquer valor numérico diferente de zero é convertido em `True`. _Strings_ não vazias também geram `True`. As _Strings_ vazias, a variável `None` e zero sempre são convertidos em `False`."
   ]
  },
  {
   "cell_type": "code",
   "execution_count": null,
   "id": "73664d1a-e91c-4875-a413-e4ffade85129",
   "metadata": {
    "tags": []
   },
   "outputs": [],
   "source": [
    "x = 5.0\n",
    "b = 3\n",
    "txt = \"texto\"\n",
    "zero = 0\n",
    "nada = \"\"\n",
    "nulo = None\n",
    "print(\"x > 4.0 -> \", x > 4.0)\n",
    "print(\"b == 4 -> \", b == 4)\n",
    "print(\"bool(x) -> \", bool(x))\n",
    "print(\"bool(zero) -> \", bool(zero))\n",
    "print(\"bool(nada) -> \", bool(nada))\n",
    "print(\"bool(nulo) -> \", bool(nulo))"
   ]
  },
  {
   "cell_type": "markdown",
   "id": "7a90db49-07ef-44e6-b75c-f77ed724ee1d",
   "metadata": {},
   "source": [
    "# Tipos de dados estruturados nativos \n",
    "\n",
    "Além dos tipos mais simples __Python__ fornece um conjunto de tipos de dados estruturados muito rico e interessante. \n",
    "\n",
    "| Nome      | Exemplo                   | Descrição                              | \n",
    "|-----------|---------------------------|--------------------------------------- |\n",
    "| `list`    | `[1, 2, 3]`               | Coleção ordenada                       |\n",
    "| `tuple`   | `(1, 2, 3)`               | Coleção imutável ordenada             |\n",
    "| `dict`    | `{'a':1, 'b':2, 'c':3}`   | Mapeamento do tipo (chave, valor)      |\n",
    "| `set`     | `{1, 2, 3}`               | Coleção não ordenada de valores únicos |\n",
    "\n",
    "Novamente vamos nos debruçar sobre cada um destes tipos.\n",
    "\n",
    "## Listas\n",
    "\n",
    "Uma lista é a estrutura básica, ordenada e mutável definida em __Python__. Se define como um conjunto de valores, separados por virgula e delimitados por `[ ... ]`. Veja o seguinte exemplo onde demonstramos algumas das propriedades e métodos das listas. Maiores informações sobre listas podem ser acessadas na documentação oficial [More on Lists](https://docs.python.org/3/library/stdtypes.html)"
   ]
  },
  {
   "cell_type": "code",
   "execution_count": null,
   "id": "42c47fdb-92fe-44a4-8211-b3751f7af560",
   "metadata": {
    "tags": []
   },
   "outputs": [],
   "source": [
    "# A lista dos 5 primeiros números pares\n",
    "P = [ 2, 4, 6, 8, 10]\n",
    "print(\"Uma lista P formada por números pares: \", P)\n",
    "# Tamanho da lista\n",
    "print(\"De tamanho len(P): \", len(P))\n",
    "#Acrescentando um valor no final da lista\n",
    "print(\"Adicionando o elemento 12 no final da lista.\")\n",
    "P.append(12)\n",
    "print(\"A lista agora ficou assim: \", P)\n",
    "# Os operadores aritméticos também funcionam com listas da mesma forma que \n",
    "# com strings\n",
    "# Concatenando lista\n",
    "print(\"Uma nova lista PpI resultado de concatenar P com uma lista de números ímpares\")\n",
    "PpI = P + [1, 3, 5, 7, 9, 11]\n",
    "print(PpI)\n",
    "# Repetindo os elementos da lista\n",
    "print(\"A lista Pt3 resultado de repetir os elementos de P 3 vezes\")      \n",
    "Pt3 = 3*P\n",
    "print(Pt3)\n",
    "# Ordenando a lista\n",
    "PpI.sort()\n",
    "print(\"A lista PpI ordenada com o método short(): \", PpI)\n",
    "# A lista, ao contrario de uma string, é mutável\n",
    "print(\"A lista ordenada: \", PpI)\n",
    "PpI[0] = 0\n",
    "print(\"Alterando o elemento PpI[0]: \", PpI)"
   ]
  },
  {
   "cell_type": "markdown",
   "id": "e6917071-5a99-48d7-8e0e-cc75376722e1",
   "metadata": {},
   "source": [
    "Mas se você está achando que as listas em __Python__ são o equivalente aos _arrays_ em outras linguagens, como __C/C++__, está errado. As listas que vimos até agora armazenam dados do mesmo tipo. Mas as listas estão mais para listas de compras onde pode entrar líquidos, sólidos, perecíveis, biscoitos, legumes, cerveja, itens de limpeza, por quilos, por litros, por quantidade, etc. Ou seja, listas não se restringem a um tipo específico, e podem armazenar dados de tipos diferentes. Uma lista pode até ser formada por outras listas. Veja os exemplos a seguir."
   ]
  },
  {
   "cell_type": "code",
   "execution_count": null,
   "id": "e6326b05-2eed-4c20-a7b0-8b73333ee0e1",
   "metadata": {
    "tags": []
   },
   "outputs": [],
   "source": [
    "Lh = [1, 2.0, \"três\", [16//4, 10/2]]\n",
    "print(Lh)\n",
    "try:\n",
    "    print(Lh.sort())\n",
    "except Exception as inst:\n",
    "    print(\"Não consegui ordenar: \", inst)\n",
    "#print(Lh.sort())"
   ]
  },
  {
   "cell_type": "markdown",
   "id": "1ff18232-4338-4af3-a2f4-6bcd794d2361",
   "metadata": {},
   "source": [
    "### Indexando listas, slicing\n",
    "\n",
    "Os elementos de uma lista podem ser acessados individualmente através do índice que identifica cada um de maneira única. Em __Python__, da mesma forma que em __C/C++__, se implementa a indexação começando em zero. Como novidade, podemos utilizar índices negativos para acessar a lista de trás para frente. Desta forma:"
   ]
  },
  {
   "cell_type": "code",
   "execution_count": null,
   "id": "5f56e186-b0da-408a-b028-4fabc848fd7e",
   "metadata": {
    "tags": []
   },
   "outputs": [],
   "source": [
    "# A lista PpI anteriormente definida\n",
    "print(\"Lista: \", PpI)\n",
    "# O primeiro elemento da lista é \n",
    "print(\"PpI[0] = \", PpI[0])\n",
    "# e o segundo é\n",
    "print(\"PpI[1] = \", PpI[1])\n",
    "# O tamanho da lista \n",
    "n = len(PpI)\n",
    "print(\"Tamanho da lista n = \", n)\n",
    "# O último elemento da lista pode ser acessado como:\n",
    "print(\"PpI[n-1] = \", PpI[n-1])\n",
    "# O é então como:\n",
    "print(\"PpI[-1] = \", PpI[-1])\n",
    "# e o anterior a ele\n",
    "print(\"PpI[-2] = \", PpI[-2])\n",
    "print(\"Utilizando indexação fora dos limites da lista\")\n",
    "try:\n",
    "    print(\"O elemento PpI[n] = \", PpI[n])\n",
    "except Exception as inst:\n",
    "    print(\"Não consegui imprimir: \", inst)"
   ]
  },
  {
   "cell_type": "markdown",
   "id": "78f17f5a-99a8-4aa9-9dd7-ffa1cc75e4f3",
   "metadata": {},
   "source": [
    "Os elementos podem ser acessados também como sub listas geradas utilizando o mecanismo de _slicing_. Utilizando então uma sintaxe baseada no emprego de `[ini:fim]` para separar o início (`ini`) da sub lista, incluído nela, e o final, não incluído. Podemos omitir o início da sub lista (`[:fim]`) e, neste caso, a mesma começa no elemento de índice 0. Também podemos omitir o final (`[ini:]`) e serão incluídos os elementos até o final da lista. Um terceiro inteiro pode ser utilizado no slicing, `[ini:fim:passo]` para definir o intervalo entre um elemento e outro a ser selecionado para integrar a sub lista. Veja os exemplos a seguir:"
   ]
  },
  {
   "cell_type": "code",
   "execution_count": null,
   "id": "93eb7eb8-5bc0-4d66-a04e-514e4bf84589",
   "metadata": {
    "tags": []
   },
   "outputs": [],
   "source": [
    "# Os primeiros três elementos de P\n",
    "print(\"P[:3] = \", P[:3]) # equivale a P[0:3], retorna os elemento de índice 0, 1 e 2\n",
    "# Os elementos da lista excluindo o primeiro\n",
    "print(\"P[1:] = \",P[1:]) # equivale a P[1:len(P)]\n",
    "# Uma sub lista da original, retorna os elementos de índice 1, 2 e 3\n",
    "print(\"P[1:4] = \", P[1:4])\n",
    "# Extraindo os elementos com índice par da lista completa\n",
    "print(\"PpI[::2] = \",PpI[::2]) # equivale a PpI[0:len(PpI):2]"
   ]
  },
  {
   "cell_type": "markdown",
   "id": "9f04e2e4-6db3-486c-90a8-cb908ca24042",
   "metadata": {},
   "source": [
    "A sintaxes do _slicing_ pode ser utilizada também em outras estruturas, como _strings_, ou nos arrays definidos em pacotes como o __NumPy__ e o __Pandas__."
   ]
  },
  {
   "cell_type": "code",
   "execution_count": null,
   "id": "fed29d43-0445-4e98-b070-3ff99506ac11",
   "metadata": {
    "tags": []
   },
   "outputs": [],
   "source": [
    "# Vejamos como mostrar uma string ao contrario usando slicing\n",
    "texto = \"abcdefghijk\"\n",
    "print(texto[-1::-1])"
   ]
  },
  {
   "cell_type": "markdown",
   "id": "98d77fbb-4e8a-4fbc-8fbf-ffe6cfc03b6e",
   "metadata": {},
   "source": [
    "## Tuplas\n",
    "\n",
    "Tuplas são bastante similares a listas em alguns aspectos. São definidas como um conjunto de elementos separados por vírgula e delimitados por parênteses. As tuplas também tem tamanho definido (`len`) e os elementos da mesma também podem ser acessados pelo seu índice. A principal diferença é que as tuplas são imutáveis, ou seja, uma vez criadas seu tamanho e seu conteúdo não podem ser alterados. Veja os exemplos"
   ]
  },
  {
   "cell_type": "code",
   "execution_count": null,
   "id": "3bf9a254-a08f-43bd-b30f-7016212e613b",
   "metadata": {
    "tags": []
   },
   "outputs": [],
   "source": [
    "dupla = (2,3.6)\n",
    "print(dupla)\n",
    "c = 3\n",
    "tripla = (\"a\", 'b', c)\n",
    "print(tripla)\n",
    "print(\"tripla[0] -> \", tripla[0])\n",
    "# Sobre o fato de serem imutaveis \n",
    "try:\n",
    "    tripla[2] = 3\n",
    "except Exception as inst:\n",
    "    print(\"Não consegui modificar a tupla: \", inst)"
   ]
  },
  {
   "cell_type": "markdown",
   "id": "19d3c353-1837-447c-85c8-602a3fe9db0c",
   "metadata": {},
   "source": [
    "As tuplas podem ser utilizadas em diversos contextos. Um exemplo simples pode ser o caso das funções que precisam retornar mais de uma variável. Veja este exemplo interessante que demonstra as potencialidade de __Python__."
   ]
  },
  {
   "cell_type": "code",
   "execution_count": null,
   "id": "e07f0cc9-a108-4918-b0df-db7a7505c921",
   "metadata": {
    "tags": []
   },
   "outputs": [],
   "source": [
    "# X armazena um valor de ponto flutuante\n",
    "x = 0.125\n",
    "# Na realidade este valor pode ser representado como uma frção\n",
    "fracão = x.as_integer_ratio()\n",
    "print(type(fracão))\n",
    "print(x.as_integer_ratio()) # método da classe dos objetos da classe pont flutuante\n",
    "numerador, denominador = x.as_integer_ratio() # o método retorna uma dupla\n",
    "print(numerador, \"/\", denominador) # aqui escrevendo como uma fração\n",
    "print(numerador / denominador) # aqui escrevendo novamente como um ponto flutuante\n",
    "# referenciando Tuplas\n",
    "p1 = (1.0, 2.3)\n",
    "print(\"p1 = \", p1)\n",
    "p2 = p1\n",
    "print(\"p2 = \", p2)\n",
    "p1 = (1.0, 2.3, 3.4)\n",
    "print(\"p1 = \", p1)\n",
    "print(\"p2 = \", p2)\n",
    "# Sobre indexamento e tamanho das tuplas\n",
    "print(\"P1 é uma tupla de \", len(p1), \" componentes.\")\n",
    "print(\"O último componente da tupla é P1[-1] = \", p1[-1])"
   ]
  },
  {
   "cell_type": "markdown",
   "id": "d0d557db-c540-4e9b-94e2-8cd109029366",
   "metadata": {},
   "source": [
    "## Dicionários\n",
    "\n",
    "Este é, provavelmente, o tipo mais interessante entre os tipos de dados estruturados nativos de __Python__. O dicionário não parece com quase nada do que encontramos em outras linguagens mais tradicionais. Para declarar um dicionário utilizamos um conjunto de pares chave valor, no formato `{chave:valor, }`, separados por vírgula e delimitado por chaves. O acesso aos elementos do dicionário utiliza mais uma vez índices, mas desta vez não se trata de um mecanismo de indexação numérico começando em zero. Os índices dos dicionários são as chaves. Veja os seguintes exemplos"
   ]
  },
  {
   "cell_type": "code",
   "execution_count": null,
   "id": "8ee6f436-ea1c-4780-963e-cabcfee7e9b3",
   "metadata": {
    "tags": []
   },
   "outputs": [],
   "source": [
    "# Declarando um dicionário\n",
    "meuReg = {'Nome': \"Jonas\", 'SobreNome': \"Oliveira\", \"Idade\":25, \"Altura\":1.85}\n",
    "# Os dicionarios são mutáveis\n",
    "# Acessando um elemento do dicionário\n",
    "print(\"Nome: \", meuReg['Nome'])\n",
    "# Modificando um elemento do dicionario\n",
    "meuReg['Nome'] = \"Juninho\"\n",
    "# Adicionando um novo elemento\n",
    "meuReg['Peso'] = 88.3\n",
    "# Imprimindo o dicionário\n",
    "print(\"Registro completo: \", meuReg)"
   ]
  },
  {
   "cell_type": "markdown",
   "id": "d227ab37-9ac8-4403-a6f1-9d12ba403615",
   "metadata": {},
   "source": [
    "## Conjuntos\n",
    "\n",
    "Finalmente os conjuntos são declarados como as listas, substituindo os colchetes por chaves. Para os matemáticos pode ficar mais simples entender este tipo de dado se os associamos a conjuntos matemáticos, para os quais estão definidos uma série de operações bem conhecidas. Veja os exemplos a seguir "
   ]
  },
  {
   "cell_type": "code",
   "execution_count": null,
   "id": "aea16bc1-b3b7-48fb-89f7-6ed8dc170763",
   "metadata": {
    "tags": []
   },
   "outputs": [],
   "source": [
    "# Declarando conjuntos\n",
    "P = { 2, 4, 6, 8, 10}\n",
    "I = {1, 3, 5, 7, 9}\n",
    "# União de conjuntos\n",
    "num = P.union(I) # equivalente a P | I\n",
    "nulo = I.intersection(P) # equivalente a I & P\n",
    "dif = P.difference(I) # equivalente a P - I\n",
    "print(\"Conjunto P, \", P)\n",
    "print(\"Conjunto I, \", I)\n",
    "print(\"União, \", num)\n",
    "print(\"Intersecção, \", nulo )\n",
    "print(\"Deferença, \", dif)"
   ]
  },
  {
   "cell_type": "markdown",
   "id": "4e34fc3d-0130-40ee-a817-e60d99fd6ca9",
   "metadata": {},
   "source": [
    "# Estruturas de controle de fluxo\n",
    "\n",
    "Com o conteúdo apresentado até aqui somos capasses de entender um pouco o __Python__ e brincar, de forma bastante limitada, com um interpretador como o __IPython__. Para andar soltos no mundo, implementando algoritmos, se faz necessário entender como controlar uma sequência de comandos de forma a executar determinados blocos de acordo com condições específicas, ou então de forma repetitiva, recorrente ou recursiva. Nos próximos tópicos abordaremos de forma rápida estruturas condicionais, como __if__, __elif__ e __else__, e estruturas de repetição, incluindo os tradicionais __for__ e __while__.\n",
    "\n",
    "## Estrutura condicional: if - elif - else:\n",
    "\n",
    "Estruturas condicionadas, geralmente conhecidas como comandos `if-then`, permitem que o código execute um determinado bloco de instruções apenas se uma determinada condição for satisfeita. Em __Python__ se introduz a tradicional estrutura `if-else`, acrescentando apenas o `elif` que é uma contração para quando seja necessário utilizar um `else if` (o clássico `if` aninhado). Veja alguns exemplos simples."
   ]
  },
  {
   "cell_type": "code",
   "execution_count": null,
   "id": "45eaf1b0-0188-4282-b152-ea254bb78128",
   "metadata": {
    "tags": []
   },
   "outputs": [],
   "source": [
    "# podemos utilizar uma variável booliana diretamente\n",
    "condição = True\n",
    "# veja como usar uma condição if simples\n",
    "x = 0.0\n",
    "print(\"x = \", x)\n",
    "\n",
    "#if condição:\n",
    "if x:\n",
    "    x = 3.14\n",
    "# Após a estrutura condicional\n",
    "print(\"x = \", x)\n",
    "# Podemos utilizar também uma condição com duas alternativas\n",
    "if x > 0:\n",
    "    x = -15\n",
    "else:\n",
    "    x = 15\n",
    "# Após a nova estrutura condicional    \n",
    "print(\"x = \", x)\n",
    "# Ou estruturas condicionais aninhadas\n",
    "if x == 0:\n",
    "    print(x, \"zero\")\n",
    "elif x > 0:\n",
    "    print(x, \"positivo\")\n",
    "elif x < 0:\n",
    "    print(x, \"negativo\")\n",
    "else:\n",
    "    print(x, \"não é um valor numérico...\")"
   ]
  },
  {
   "cell_type": "markdown",
   "id": "4077c5b9-2d93-442d-ba39-4b62a0d27c05",
   "metadata": {},
   "source": [
    "## Estrutura de repetição for\n",
    "\n",
    "Estruturas de repetição ou laços, são utilizados para executar um determinado bloco de instruções repetidas vezes. O tradicional construtor de estruturas de repetição `for` está disponível com uma abordagem um pouco diferentes. Veja um exemplo simples em __Python__"
   ]
  },
  {
   "cell_type": "code",
   "execution_count": null,
   "id": "df0b1366-8db3-4a01-84d7-56c0b471a56b",
   "metadata": {
    "tags": []
   },
   "outputs": [],
   "source": [
    "print(\"PpI: [\", end='')\n",
    "for X in PpI:\n",
    "    print(X, end=' ')  # imprimindo todos os elementos na mesma linha\n",
    "print(\"]\")"
   ]
  },
  {
   "cell_type": "markdown",
   "id": "92a08f73-5150-4cf5-a57e-f7c9e80aaa9f",
   "metadata": {},
   "source": [
    "Reparem que neste exemplo utilizamos o operador in para ligar a variável de controle do laço com o conjunto de valores possíveis (pode se ler \"para cada valor x incluído na lista PpI). O mesmo código poderia ser implementado utilizando a função `range()` da seguinte forma."
   ]
  },
  {
   "cell_type": "code",
   "execution_count": null,
   "id": "f5f36cb7-1e48-46ed-a393-47e80dcd6630",
   "metadata": {
    "tags": []
   },
   "outputs": [],
   "source": [
    "# a função range retorna um iterator de números inteiros\n",
    "# pode ser usada definindo apenas o valor final, que não estara incluido \n",
    "fim = 10\n",
    "print(\"range(\", fim,\"): \",list(range(fim)))\n",
    "# pode ser definindo também o valor inicial, que estara incluido \n",
    "ini = 2\n",
    "print(\"range(\",ini, \" ,\", fim,\"): \",list(range(ini, fim)))\n",
    "# pode ainda ser definindo também o valor do incremento\n",
    "passo = 2\n",
    "print( \"range(\",ini, \" ,\", fim, \" , \", passo, \"): \",list(range(ini, fim, passo)))\n",
    "# No caso da lista do exemplo anterior\n",
    "print(\"PpI: [\", end=' ')\n",
    "for i in range(len(PpI)):\n",
    "    print(PpI[i], end=' ')\n",
    "print(\"]\")"
   ]
  },
  {
   "cell_type": "markdown",
   "id": "80b9aa8b-a9e1-45c6-8444-b6e8f98cb278",
   "metadata": {},
   "source": [
    "## Estrutura de repetição while\n",
    "\n",
    "A estrutura `while` repete um bloco de código enquanto uma determinada condição for satisfeita. Veja o exemplo"
   ]
  },
  {
   "cell_type": "code",
   "execution_count": null,
   "id": "78e60492-0223-449c-a9ae-9deee1a0d5e0",
   "metadata": {
    "tags": []
   },
   "outputs": [],
   "source": [
    "#Estrutura de repetição controlada por contador\n",
    "i = 0 #inicializando o contador\n",
    "print(\"PpI: [\", end='')\n",
    "while i < len(PpI): # verificandop a condição de parada\n",
    "    print(PpI[i], end=' ')\n",
    "    i += 1 #incrementando o contador\n",
    "print(\"]\")\n",
    "\n",
    "#Estrutura de repetição controlada por sentinela\n",
    "i = 0 #inicializando o contador\n",
    "print(\"PpI: [\", end='')\n",
    "while True:\n",
    "    try:\n",
    "        print(PpI[i], end=' ')\n",
    "    except:\n",
    "        break\n",
    "    i += 1 #incrementando o contador\n",
    "print(\"]\")\n"
   ]
  },
  {
   "cell_type": "markdown",
   "id": "3d2e5b31-983d-4a3c-99b5-a07444281f51",
   "metadata": {},
   "source": [
    "Como vimos no exemplo anterior as estruturas de repetição podem ter sua execução modificada pelo uso de duas instruções: `break` e `continue`. Veja como modificar o código do laço for apresentado na seção anterior: "
   ]
  },
  {
   "cell_type": "code",
   "execution_count": null,
   "id": "1e5f48b9-338e-44fd-8833-3017b2c65f1e",
   "metadata": {
    "tags": []
   },
   "outputs": [],
   "source": [
    "print(\"PpI: [\", end='')\n",
    "for i in range(len(PpI)):\n",
    "    if i%2 == 0 :\n",
    "        continue #pula para o fim da iteração atual e vai para a próxima iteração\n",
    "    print(PpI[i], end=' ')\n",
    "print(\"]\")"
   ]
  },
  {
   "cell_type": "markdown",
   "id": "91bf63e4-ac77-4485-88bf-602655afbf0e",
   "metadata": {},
   "source": [
    "Uma outra característica que pode ser comentada sobre as estruturas de repetição em __Python__ é a possibilidade de utilizar um estrutura `else` no final, tanto dos laços `for` quanto dos `while`. A utilização prática ou mesmo a necessidade de se ter este recurso desperta muitas dúvidas entre os programadores. Vamos apenas colocar um exemplo para documentar o uso do mesmo."
   ]
  },
  {
   "cell_type": "code",
   "execution_count": null,
   "id": "c659d632-4fdc-48a2-99d9-ccf01368f356",
   "metadata": {
    "tags": []
   },
   "outputs": [],
   "source": [
    "# Uma situação sismples baseada no exemplo anterior\n",
    "print(\"PpI: [\", end=' ')\n",
    "for i in range(len(PpI)):\n",
    "    if i%2 == 0 :\n",
    "        continue #pula para o fim da iteração atual e vai para a próxima iteração\n",
    "    print(PpI[i], end=' ')\n",
    "    if i > 5:\n",
    "        break # sai completamente da execução do laço\n",
    "else: \n",
    "    print(\"]\")"
   ]
  },
  {
   "cell_type": "markdown",
   "id": "6411bfc7-8bc8-4224-966a-28544526c0d9",
   "metadata": {},
   "source": [
    "# Funções, como utilizar e implementar\n",
    "\n",
    "Algoritmos simples podem ser implementados utilizando apenas variáveis e estruturas de controle de fluxo. O desenvolvimento de programas e códigos mais elaborados, exigem a utilização de funções, inclusive daquelas que aparecem na forma de métodos de classes. Paradigmas de programação como o de programação estruturada ou programação orientada a objetos, que visam entre outras coisas, podermos reutilizar códigos e estruturar os mesmo de forma a simplificar seu desenvolvimento e posterior manutenção, nos levam à necessidade de aprendermos a implementar funções de forma eficiente.  \n",
    "\n",
    "## Que é uma função\n",
    "\n",
    "Uma função não é mais que um bloco de código  ou rotina, que pode ser utilizado múltiplas vezes e que permite estruturar o código de forma a garantir uma sequencia mais limpa e legível de instruções. O bloco sintáctico vinculado à função é sempre associado a um nome que serve para invocar a execução do mesmo a qualquer momento. Como na maioria das linguagens tradicionais, em __Python__, a chamada a uma funções evolve seu nome seguido de parêntesis que delimitam os parâmetros que deverão ser passados para a função. Mesmo funções que não recebem parâmetros são chamadas utilizando parêntesis. Os parêntesis ajudam a distinguir quando se esta fazendo referenciando uma variável ou fazendo a chamada a uma função. \n",
    "\n",
    "Semelhante ao conceito matemático de função, seu equivalente computacional pode ser utilizar para mapear um conjunto de entrada, ou domínio, em um conjunto de saída ou imagem. Entretanto as funções, computacionalmente falando, podem ter domínio vazio, não recebem parâmetros de entrada, e também podem ter imagem nula, não retornam nenhum resultado. \n",
    "\n",
    "Até aqui foram utilizados, em vários momentos, funções como o caso de: "
   ]
  },
  {
   "cell_type": "code",
   "execution_count": null,
   "id": "fe28a87d-33df-4caa-b8ea-1e8c712ab7b2",
   "metadata": {
    "tags": []
   },
   "outputs": [],
   "source": [
    "print(\"Olha uma função aqui!!!\")"
   ]
  },
  {
   "cell_type": "markdown",
   "id": "b526ec60-2e63-4c49-bfeb-e6da8d191c8a",
   "metadata": {},
   "source": [
    "Vamos aprender então como criar nossas próprias funções em __Python__.\n",
    "\n",
    "## Definindo funções\n",
    "\n",
    "Para se definir uma função em __Python__ utilizamos a palavra chave `def`, seguido do nome da função e, entre parêntesis, os parâmetros de entrada. O bloco de instruções associado a aquela função pode ser declarado, seguindo a sintaxes apropriada em __Python__, ou seja utilizar `:` e indentação para delimitar o bloco de instruções associada à mesma. Uma função em __Python__ é, então, um objeto que engloba um bloco sintáctico definido através da palavra chave `def` com a seguinte sintaxe:"
   ]
  },
  {
   "cell_type": "code",
   "execution_count": null,
   "id": "54e86e6c-c2fa-4d16-8273-787e33d938fb",
   "metadata": {
    "tags": []
   },
   "outputs": [],
   "source": [
    "# Uma função ainda não implementada\n",
    "def minhaFunção():\n",
    "    pass\n",
    "\n",
    "#Função sem argumentos. Retorna uma string\n",
    "def funSemArgumentos():\n",
    "    # Bloco sintático\n",
    "    return \"Esta função não tem argumentos\"\n",
    "\n",
    "print(funSemArgumentos())\n",
    "\n",
    "#Função com um argumento. Não retorna nada\n",
    "def funUmArgumento(arg1):\n",
    "    # Bloco sintático\n",
    "    arg1.append(5) # Colocando um novo elemento  o final da lista\n",
    "\n",
    "L = []\n",
    "print(funUmArgumento(L))\n",
    "print(L)\n",
    "    \n",
    "#Função com dois argumentos. Retorna a adição dos mesmos    \n",
    "def funDoisArgumentos(arg1, arg2):\n",
    "    # Bloco sintático\n",
    "    valor = arg1 + arg2 \n",
    "    return valor\n",
    "\n",
    "print(funDoisArgumentos(2,2))\n",
    "print(funDoisArgumentos(\"a + \", \"b = c\"))"
   ]
  },
  {
   "cell_type": "markdown",
   "id": "00dc0aa3-c31e-450f-8416-e286b244f1b9",
   "metadata": {},
   "source": [
    "A `minhaFunção` está definida de forma que ela não recebe parâmetros nem faz absolutamente nada. A palavra chave `pass` pode ser utilizada quando queremos deixar definido um bloco de código para o qual ainda não temos uma implementação apropriada. \n",
    "\n",
    "Vamos tentar outro exemplo de função  mais ilustrativo. "
   ]
  },
  {
   "cell_type": "code",
   "execution_count": null,
   "id": "e0e216f2-0e14-4361-b646-8468098f2cad",
   "metadata": {
    "tags": []
   },
   "outputs": [],
   "source": [
    "# Retorna os N primeiros termos da Sequência de Fibonacci\n",
    "def fibonacci(N):\n",
    "    L = [0]\n",
    "    a, b = 0, 1\n",
    "    while len(L) < N:\n",
    "        a, b = b, a + b\n",
    "        L.append(a)\n",
    "    return L"
   ]
  },
  {
   "cell_type": "markdown",
   "id": "6bb3f195-f761-4b64-823b-d5640c5e75ed",
   "metadata": {},
   "source": [
    "Temos agora uma função que implementa um algoritmo que permite gerar N termos consecutivos da sequência de Fibonacci. Não lembra de como se calculam os termos da sequência? Veja esta [referência](https://pt.wikipedia.org/wiki/Sequ%C3%AAncia_de_Fibonacci)\n",
    "\n",
    "Podemos utilizar a função da seguinte forma:"
   ]
  },
  {
   "cell_type": "code",
   "execution_count": null,
   "id": "1ccd307d-0309-4c5f-aac2-9d940e7e73e0",
   "metadata": {
    "tags": []
   },
   "outputs": [],
   "source": [
    "fibonacci(10)"
   ]
  },
  {
   "cell_type": "markdown",
   "id": "3343c1cd-4771-4426-994c-c17a7bac0574",
   "metadata": {},
   "source": [
    "Reparem que na definição da função, ao contrário de linguagens mais tradicionais como __C/C++__, não estão incluídos o tipo de retorno da função ou os tipos dos parâmetros de entrada da mesma. Isto faz das funções em __Python__ um instrumento muito versátil, capaz de retornar valores diversos. O mecanismo de passagem de parâmetros também é bastante inovador, mas sobre ele falaremos mais para frente. \n",
    "\n",
    "Vejam o exemplo a seguir que mostra como retornar múltiplos resultados:"
   ]
  },
  {
   "cell_type": "code",
   "execution_count": null,
   "id": "7f43a0ec-2db8-4e44-924b-9a6edc3f75d8",
   "metadata": {
    "tags": []
   },
   "outputs": [],
   "source": [
    "def real_imag_conj(val):\n",
    "    return val.real, val.imag, val.conjugate()\n",
    "tripla = real_imag_conj(3 + 4j)\n",
    "print(tripla)\n",
    "r, i, c = real_imag_conj(3 + 4j)\n",
    "print(r, i, c)"
   ]
  },
  {
   "cell_type": "markdown",
   "id": "52458f4b-d03e-41b7-b3c3-f1fcc72a550f",
   "metadata": {},
   "source": [
    "Vejamos outro exemplo. A função no próximo exemplo recebe dois parâmetros, sem especificar o tipo, e utiliza o operador adição com eles para gerar o valor de saída. A função pode trabalhar então com qualquer variável em __Python__  para a qual esteja definido o operador adição. "
   ]
  },
  {
   "cell_type": "code",
   "execution_count": null,
   "id": "64a4541d-7390-4257-9e8c-5c51b0772be0",
   "metadata": {
    "tags": []
   },
   "outputs": [],
   "source": [
    "def soma(a, b):\n",
    "    return a + b\n",
    "\n",
    "print(soma(2, 2))\n",
    "print(soma(2.0, 2))\n",
    "print(soma(2.0,2.0))\n",
    "print(soma(\"dois + \", \"dois = quatro\"))"
   ]
  },
  {
   "cell_type": "markdown",
   "id": "cfac432c-7c26-4454-9b1a-fb7ecb6d328c",
   "metadata": {},
   "source": [
    "Isto significa que as funções em __Python__ são essencialmente polimórficas. Isto é, elas se comportam de acordo com o tipo dos objetos com que estão trabalhando. Vejamos este outro exemplo."
   ]
  },
  {
   "cell_type": "code",
   "execution_count": null,
   "id": "a16f029b-23a0-4383-9d2d-c747109d5f1f",
   "metadata": {
    "tags": []
   },
   "outputs": [],
   "source": [
    "def intersect(seq1, seq2):\n",
    "    res = []\n",
    "    for x in seq1:\n",
    "        if x in seq2:\n",
    "            res.append(x)\n",
    "    return res\n",
    "\n",
    "print(intersect(\"Modelagem\", \"viagem\"))\n",
    "print(intersect([1, 2, 3, 5, 7], [1, 2, 3, 4, 5, 6, 7]))"
   ]
  },
  {
   "cell_type": "markdown",
   "id": "0141ad9e-0eaa-42d9-8b0e-a866e449df7e",
   "metadata": {},
   "source": [
    "As funções declaradas em __Python__ viram objetos apenas quando são executadas. Como qualquer outra declaração, `def` pode ser utilizada nos contextos em que declarações são aceitas. Veja o seguinte exemplo em que declaramos uma nova função utilizando uma estrutura condicional `if-else`."
   ]
  },
  {
   "cell_type": "code",
   "execution_count": null,
   "id": "7fb2e4ce-0bf4-4e2e-82e0-e016fd625608",
   "metadata": {
    "tags": []
   },
   "outputs": [],
   "source": [
    "#cond = True\n",
    "cond = False\n",
    "\n",
    "if cond:\n",
    "    def minhaSoma(a, b):\n",
    "        return a + b\n",
    "else:\n",
    "    def minhaSoma(a, b):\n",
    "        return (1/a + 1/b)\n",
    "\n",
    "print (minhaSoma(2, 2))"
   ]
  },
  {
   "cell_type": "markdown",
   "id": "e8a1b01e-adca-4461-bcb8-0703c7ba9804",
   "metadata": {},
   "source": [
    "A palavra chave `def` cria um objeto, e “atribui” uma referência para o mesmo a uma variável que é o nome da função. Isto abre a possibilidade de utilizar nomes diferentes para uma mesma função. Veja o exemplo a seguir."
   ]
  },
  {
   "cell_type": "code",
   "execution_count": null,
   "id": "4c7fcef1-ebeb-4cab-9d84-69d6bf59a67d",
   "metadata": {
    "tags": []
   },
   "outputs": [],
   "source": [
    "adição = soma\n",
    "print(adição(2, 2))"
   ]
  },
  {
   "cell_type": "markdown",
   "id": "3b53353c-83fb-4388-bb13-495d9ebf976c",
   "metadata": {},
   "source": [
    "## Escopo das variáveis\n",
    "\n",
    "Um aspecto importante a ser analisado na hora de implementar funções é o escopo das variáveis. Até aqui não prestamos muita atenção a este aspecto. Assumimos que as variáveis declaradas dentro de uma função são variáveis locais. De forma geral em __Python__ o escopo de uma variável depende do local onde ela é declarada. Desta forma uma variável pode ser:\n",
    "\n",
    "* local: quando declarada dentro de uma função;\n",
    "* nonlocal: quando declarada dentro de uma função mas fora de uma outra função aninhada dentro dela;\n",
    "* global: quando declarada fora de todas as funções\n",
    "\n",
    "<img align=\"center\" style=\"padding-right:10px;\" src=\"Imagens/Fig_006.jpg\">\n",
    "\n",
    "(*) Fonte: __Learning Python. 5th Edition. _Mark Lutz_ .__\n",
    "\n",
    "Veja os exemplos a seguir"
   ]
  },
  {
   "cell_type": "code",
   "execution_count": null,
   "id": "6dcf80ee-716c-46a9-83c9-a342b02224e2",
   "metadata": {
    "tags": []
   },
   "outputs": [],
   "source": [
    "# Escopo global\n",
    "x = 99 # Aqui x é uma variável global\n",
    "\n",
    "print(\"x Global = \", x)\n",
    "\n",
    "def funçãoX(y): # y é uma variável Local da função\n",
    "    #Escopo local\n",
    "    # z é atribuída dentro do corpo da função (local)\n",
    "    print(\"y Local = \", y)\n",
    "    print(\"x Global = \", x)\n",
    "    z = x + y  # já x, que não foi definido neste bloco, se refere à variável Global\n",
    "    print(\"z Local = \", z)\n",
    "    return z\n",
    "\n",
    "# y e z não estão de finidas fora da função\n",
    "try:\n",
    "    print(\"z Local = \", z)\n",
    "except: \n",
    "    print(\"Problemas!!!: \")\n",
    "\n",
    "    \n",
    "print(\"x Global = \", x)\n",
    "print(\"função(1) --> \", funçãoX(1))"
   ]
  },
  {
   "cell_type": "code",
   "execution_count": null,
   "id": "beb182e3-bcc2-4513-817d-a7f954c69c92",
   "metadata": {
    "tags": []
   },
   "outputs": [],
   "source": [
    "# Escopo global\n",
    "x = 99 # Aqui x é uma variável global\n",
    "\n",
    "def funçãoX():\n",
    "    #Escopo local\n",
    "    x = 11  # se cria uma nova referẽncia com o nome x, no escopo local\n",
    "    print(\"x Local = \", x)\n",
    "\n",
    "    \n",
    "print(\"x Global = \", x)\n",
    "print(\"Chamando à funcãoX()\")\n",
    "funçãoX()\n",
    "print(\"Mas x Global continua= \", x)"
   ]
  },
  {
   "cell_type": "code",
   "execution_count": null,
   "id": "ef993b27-3519-4223-aa9f-ef4161ec8140",
   "metadata": {
    "tags": []
   },
   "outputs": [],
   "source": [
    "# Escopo global\n",
    "x = 99\n",
    "\n",
    "\n",
    "def funçãoX():\n",
    "    #Escopo local\n",
    "    x = 11\n",
    "    \n",
    "    def funçãoY():\n",
    "        #Escopo local\n",
    "        x = 22\n",
    "        print(\"x Local da funçãoY: \", x)\n",
    "    \n",
    "    print(\"x Local da funçãoX: \", x)\n",
    "    print(\"Chamando à funcãoY()\")\n",
    "    funçãoY()\n",
    "    print(\"Mas x Local da funçãoX continua = \", x)\n",
    "\n",
    "print(\"x Global = \", x)\n",
    "print(\"Chamando à funcãoX()\")\n",
    "funçãoX()\n",
    "print(\"E x Global continua = \", x)"
   ]
  },
  {
   "cell_type": "markdown",
   "id": "48842b83-6fb7-46ab-95cd-301e2fcb98e4",
   "metadata": {},
   "source": [
    "O escopo de uma variável pode ser modificado utilizando as palavras chaves global e nonlocal. Veja uma pequena variação do exemplo anterior."
   ]
  },
  {
   "cell_type": "code",
   "execution_count": null,
   "id": "54072f15-dcbd-41b7-b584-13c796833ed8",
   "metadata": {
    "tags": []
   },
   "outputs": [],
   "source": [
    "# Escopo global\n",
    "x = 99\n",
    "y = 3\n",
    "\n",
    "\n",
    "def funçãoX():\n",
    "    #Escopo global\n",
    "    # quando me refira a x dentro, da funçãoX, ...\n",
    "    global x # estou falando do x global\n",
    "    print(\"x Global dentro da funçãoX = \", x)\n",
    "    x = 11\n",
    "    # já este y é local da função, ...\n",
    "    y = 99 # diferente do y de escopo global\n",
    "    def funçãoY():\n",
    "        #Escopo nonlocal\n",
    "        # quando me refira a y dentro, da funçãoY, ...\n",
    "        nonlocal y # estou falando do y local da funçãoX\n",
    "        print(\"y NonLocal dentro da funçãoY = \", y)\n",
    "        y = 22\n",
    "        \n",
    "    print(\"y Local dentro da funçãoX = \", y)\n",
    "    print(\"Chamando à funcãoY()\")\n",
    "    funçãoY()\n",
    "    print(\"Agora y Local é = \", y)\n",
    "   \n",
    "print (\"x Global = \", x)\n",
    "print (\"y Global = \", y)\n",
    "print(\"Chamando à funcãoX()\")\n",
    "funçãoX()\n",
    "print(\"Agora x Global é = \", x)\n",
    "print(\"E y Global é = \", y)"
   ]
  },
  {
   "cell_type": "markdown",
   "id": "03de5307-c491-4f90-af5d-f67972876b79",
   "metadata": {},
   "source": [
    "# Passagem de parâmetros\n",
    "\n",
    "A passagem de parâmetros para funções pode ser feita, de forma geral, de duas formas: por valor ou por referência. Na passagem de parâmetros por valor, cria-se dentro da função, uma cópia da variável original de forma que, alterações feitas dentro da função não afetam o valor originalmente armazenado. Na passagem por referência se trabalha, dentro da função, no endereço da variável de origem. Por este motivo, modificações feitas neste contexto afetam o valor da variável fora da função. \n",
    "\n",
    "Em __Python__ a passagem de parâmetros é feita da seguinte forma:\n",
    "\n",
    "* São atribuídos referências a objetos para variáveis locais (parâmetros);\n",
    "* Fazer novas atribuições a estes parâmetros dentro da função não afeta as variáveis originais;\n",
    "* Modificar objetos mutáveis referenciados por parâmetros da função afeta as variáveis originais\n",
    "\n",
    "Isto significa que em __Python__, ainda que na realidade a passagem é sempre feita por referência, na prática:\n",
    "\n",
    "* A passagem de objetos mutáveis é feita por referência\n",
    "* A passagem de objetos imutáveis é feita por valor\n",
    "\n",
    "Veja como funciona."
   ]
  },
  {
   "cell_type": "code",
   "execution_count": null,
   "id": "3f75255f-29bd-4595-9a7a-e4be431a86d3",
   "metadata": {
    "tags": []
   },
   "outputs": [],
   "source": [
    "def funçãoPorValor(a):\n",
    "    a = 1 # valores numéricos geram objetos inmutáveis\n",
    "\n",
    "b = 0\n",
    "funçãoPorValor(b)\n",
    "print(b)"
   ]
  },
  {
   "cell_type": "code",
   "execution_count": null,
   "id": "64f67950-0578-4590-8fc5-3c0bd0416ee4",
   "metadata": {
    "tags": []
   },
   "outputs": [],
   "source": [
    "def funçãoPorReferência(a):\n",
    "    try:\n",
    "        a[0] = \"Mudei\" # Listas são sempre objetos mutáveis\n",
    "    except:\n",
    "        pass\n",
    "\n",
    "b = [1, 2, 3]\n",
    "print(b)\n",
    "funçãoPorReferência(b)\n",
    "print(b)\n",
    "c = (1, 2, 3)\n",
    "print(c)\n",
    "print(c[0])\n",
    "funçãoPorReferência(c)\n",
    "print(c)"
   ]
  },
  {
   "cell_type": "markdown",
   "id": "a281ca16-e2f8-430a-b791-07099e57eb6f",
   "metadata": {},
   "source": [
    "No cabeçalho de uma função fica definido os nomes dos parâmetros que a função recebe e a ordem em que eles devem ser enviados. __Python__ estabelece alguns mecanismos que permitem criar chamadas a funções muito mais flexíveis. \n",
    "Além do mecanismo tradicional (posicional) pode-se destacar outros dois:\n",
    "\n",
    "* palavras chaves\n",
    "* valores predefinidos\n",
    "\n",
    "Veja o seguinte exemplo que demonstra com utilizar o conceito de palavras chaves na passagem de parâmetros."
   ]
  },
  {
   "cell_type": "code",
   "execution_count": null,
   "id": "8ac300a1-b42a-4545-8cbc-f532ed62e509",
   "metadata": {
    "tags": []
   },
   "outputs": [],
   "source": [
    "# A funçãoY tem três parâmetros de entrada. Pela sua ordem eles são a, b e c\n",
    "def funçãoY(a, b, c):\n",
    "    print(a, b, c)\n",
    "\n",
    "# Posso chamar colocando apenas os valores pela ordem\n",
    "funçãoY(1, 2, 3) # isto significa que a recebe 1, b recebe 2 e c recebe 3\n",
    "# Posso especificar o valor que cada parâmetro vai receber\n",
    "funçãoY(c = 4, a = 7, b = 1) # isto significa que a recebe 7 b recebe 1 e c recebe 4\n",
    "# Posso utilizar parcialmente a ordem e os nomes        \n",
    "funçãoY(4, c = 2, b = 5) # isto significa que a recebe 4, b recebe 5 e c recebe 2"
   ]
  },
  {
   "cell_type": "markdown",
   "id": "d509a66b-a7ab-467d-9229-0e8b86e969c5",
   "metadata": {},
   "source": [
    "Desta forma __Python__ permite que você seja mais específico na hora de chamar a função. Identificar o que você está passando para uma função deixa seu código bem mais interessante e fácil de ler. Mas como saber quais parâmetros uma função recebe e qual a sua ordem? Veja [aqui](https://realpython.com/documenting-python-code/) e [aqui](https://www.python.org/dev/peps/pep-0257/) como documentar funções. "
   ]
  },
  {
   "cell_type": "code",
   "execution_count": null,
   "id": "a69a3f20-4cc9-4a7c-a75e-16eb051fe8fc",
   "metadata": {
    "tags": []
   },
   "outputs": [],
   "source": [
    "help(len)"
   ]
  },
  {
   "cell_type": "markdown",
   "id": "18eb233b-447f-47d3-b270-2b9bd310c17a",
   "metadata": {},
   "source": [
    "Uma pequena modificação na definição da funçãoY pode deixar ela mais simples de usar."
   ]
  },
  {
   "cell_type": "code",
   "execution_count": null,
   "id": "2352b2df-249b-4385-8f32-6e0ad82d74a2",
   "metadata": {
    "tags": []
   },
   "outputs": [],
   "source": [
    "'''\n",
    "A funçãoY tem três parâmetros de entrada. \n",
    "a: com valor padrão 1\n",
    "b: com valor padrão 2 \n",
    "c: com valor padrão 3\n",
    "'''\n",
    "def funçãoY(a = 1, b = 2, c = 3):\n",
    "    print(a, b, c)\n",
    "\n",
    "# Posso chamar a função com os valores implícitos das variáveis    \n",
    "funçãoY() # os parâmetros tem seus valores padrão\n",
    "# Posso chamar a função passando valores explicitamente, pela ordem  \n",
    "funçãoY(4, 5, 6) # isto significa que a recebe 4, b recebe 5 e c recebe 6\n",
    "# Posso chamar a função passando valores explicitamente, pelo nome\n",
    "funçãoY(c = 6, a = 4, b = 5) # isto significa que a recebe 4, b recebe 5 e c recebe 6\n",
    "# Posso chamar a função passando valores explicitamente, pela ordem e pelo nome\n",
    "funçãoY(1, c = 6, b = 5) # isto significa que a recebe 1, b recebe 5 e c recebe 6\n",
    "# Posso chamar a função passando valores explicitamente, pela ordem e/ou pelo nome\n",
    "funçãoY(a=7) # e deixar alguns parâmetros com seus valores implícitos"
   ]
  },
  {
   "cell_type": "markdown",
   "id": "3b3094bd-c6c6-47f6-87f3-9931e3225d4f",
   "metadata": {},
   "source": [
    "__Python__ ainda permite função com uma quantidade indeterminada de parâmetros. Com esta finalidade a função deve ser declarada da seguinte forma."
   ]
  },
  {
   "cell_type": "code",
   "execution_count": null,
   "id": "6b078e79-8694-4fd9-abfa-b33a83100cdf",
   "metadata": {
    "tags": []
   },
   "outputs": [],
   "source": [
    "def funFlexL(*ListaDeParâmetros):\n",
    "    print(len(ListaDeParâmetros))\n",
    "    print(ListaDeParâmetros)\n",
    "    \n",
    "# ou\n",
    "\n",
    "def funFlexD(**DicionarioDeParâmetros):\n",
    "    print(DicionarioDeParâmetros)\n",
    "    \n",
    "# ou ainda\n",
    "\n",
    "def funFlexLD(*ListaDeParâmetros, **DicionarioDeParâmetros):\n",
    "    print(ListaDeParâmetros)\n",
    "    print(DicionarioDeParâmetros)\n",
    "    \n",
    "    \n",
    "#Podemos agora usar da seguinte forma\n",
    "\n",
    "funFlexL(1, 'a', 2.0, [1,3])\n",
    "funFlexD(a = 1, beta = 'a', y = 2.0, L = [1,3])\n",
    "funFlexLD(1, 'a',y = 2.0, L = [1,3])"
   ]
  },
  {
   "cell_type": "markdown",
   "id": "da35d3b2-974c-418a-9225-e75e30fba4d3",
   "metadata": {},
   "source": [
    "# Módulos\n",
    "\n",
    "Uma das principais vantagens de utilizar __Python__, como linguagem de programação, é a grande quantidade de recursos que estão disponíveis para os desenvolvedores. As bibliotecas padrão que acompanham a distribuição que você está utilizando já oferece uma ampla gama de ferramentas úteis para diversos tipos de tarefas. Os recursos disponíveis são potencializados pela grande variedade de ferramentas que compõem a ecossistema desenvolvido por terceiros e que podem ser usados livremente. Para poder aproveitar este conjunto de recursos é necessário aprender a usar o conceito de módulos em __Python__.\n",
    "\n",
    "## Que são módulos em __Python__\n",
    "\n",
    "Módulos em __Python__ representam a unidade mais alta de organização de um programa, capaz de armazenar códigos e dados para serem reutilizados, minimizando os nomes conflitantes de objetos. Um programa em __Python__ consiste, basicamente, em arquivos de texto contendo declarações __Python__. Um dos arquivo é o arquivo principal que pode fazer fazer uso ou não de arquivos suplementares que são chamados de módulos.\n",
    "\n",
    "Para carregar um módulo, seja da biblioteca padrão, desenvolvido por terceiros ou por nós mesmos é preciso utilizar a cláusula `import`. Como funciona o processo de importar um módulo? Procura-se o arquivo do módulo associado ao nome utilizado na cláusula `import`. O arquivo é compilado para _byte code_ e se executa o módulo para gerar os objetos nele definidos. \n",
    "\n",
    "Quando utilizamos um `import` no nosso código os arquivos relacionados ao módulo que se deseja utilizar são procurados hierarquicamente na seguinte ordem:\n",
    "* na pasta da aplicação;\n",
    "* no caminho do __PYTHONPATH__;\n",
    "* no caminho padrão das bibliotecas;\n",
    "* nas pastas indicadas nos arquivos .pth;\n",
    "* nos sítios definidos por bibliotecas de terceiros\n",
    "\n",
    "[Aqui](https://www.youtube.com/watch?v=Bo6jVSwlPUo&list=PLDC3uVLxaEQ3zH9cOh9EmEyWVV17TER_F&index=17) tem uma excelente aula de como trabalhar com empacotamento de aplicações em __Python__\n",
    "\n",
    "Os nomes dos módulos viram variáveis quando importados. Desta forma a seus nomes se aplicam as mesmas restrições que aos de variáveis. Podem ser importados módulos das seguintes formas\n",
    "\n",
    "### Importando explicitamente\n",
    "\n",
    "Quando importados explicitamente os objetos do módulo são preservados em um _namespace_ associado ao nome do módulo. Os objetos do mesmo poderão ser acessados utilizando o nome do módulo seguido de “.” e da chamada ao objeto. Veja como exemplo o uso do módulo _math_."
   ]
  },
  {
   "cell_type": "code",
   "execution_count": null,
   "id": "a0ebab7d-f3a5-473c-9e17-efcae609c6ab",
   "metadata": {
    "tags": []
   },
   "outputs": [],
   "source": [
    "import math\n",
    "math.cos(math.pi)"
   ]
  },
  {
   "cell_type": "markdown",
   "id": "2dc5cb5f-f4eb-40d5-9ee7-d0bbd860f18f",
   "metadata": {},
   "source": [
    "### Importando explicitamente utilizando um alias\n",
    "\n",
    "Os nomes de alguns módulos são muito grandes, o que dificulta sua utilização quando importados explicitamente. nestes casos é possível utilizar a variação `import ... as ...` em que atribuímos uma alias apropriado para o nome do módulo. Veja um exemplo utilizando a __NumPy__, um dos módulos de terceiros mais utilizados em matemática numérica."
   ]
  },
  {
   "cell_type": "code",
   "execution_count": null,
   "id": "449e0f84-3d03-4d64-9d8f-fef0efa736a8",
   "metadata": {
    "tags": []
   },
   "outputs": [],
   "source": [
    "import numpy as np\n",
    "np.cos(np.pi)"
   ]
  },
  {
   "cell_type": "markdown",
   "id": "440c0cf8-3c67-4caf-85b8-670752d02731",
   "metadata": {},
   "source": [
    "### Importação explícita do conteúdo do módulo\n",
    "\n",
    "Em algumas aplicações é necessário importar apenas alguns componentes do módulo e não o namespace completo dele. Neste caso é possível utilizar a forma `from … import …`. Neste caso o objeto é acessado diretamente e seu nome passa a fazer parte do _namespace_ do seu código."
   ]
  },
  {
   "cell_type": "code",
   "execution_count": null,
   "id": "02ac889f-cc01-4eca-b5f8-a01247620e94",
   "metadata": {
    "tags": []
   },
   "outputs": [],
   "source": [
    "from math import cos, pi\n",
    "cos(pi)"
   ]
  },
  {
   "cell_type": "markdown",
   "id": "37a87a34-b98c-4a7c-9e88-87240323be7f",
   "metadata": {},
   "source": [
    "### Importação implícita de conteúdo do módulo\n",
    "\n",
    "Quando não temos certeza de qual recurso do módulo teremos necessidade de usar e queremos utilizar eles diretamente, pode-se importar o _namspace_ completo do módulo incorporando todos seus objetos ao _namespace_ do seu programa. Para isto utilizamos a sintaxes `from … import * `. Este recurso deve ser utilizado com parcimônia e cuidado já que nomes do _namespace_ do módulo podem se sobrepor ao de objetos que já existem no nosso código.  "
   ]
  },
  {
   "cell_type": "code",
   "execution_count": null,
   "id": "feae3cee-033a-4523-a215-8541852ebcc5",
   "metadata": {
    "tags": []
   },
   "outputs": [],
   "source": [
    "from math import *\n",
    "sin(pi) ** 2 + cos(pi) ** 2"
   ]
  },
  {
   "cell_type": "markdown",
   "id": "506bed49-b6df-4963-ac32-8e40863baca4",
   "metadata": {},
   "source": [
    "## Importando módulos da biblioteca padrão do Python\n",
    "\n",
    "A biblioteca padrão do __Python__ vem acompanhada de um conjunto de módulos internos muito úteis, sobre os quais você pode fazer uma leitura complementar em [documentação do Python] (https://docs.python.org/3/library/).\n",
    "Alguns dos recursos mais utilizados estão incluídos em algum destes módulos:\n",
    "\n",
    "* `os` e `sys`: Ferramentas para interface com o sistema operacional, incluindo navegação nas estruturas de diretórios de arquivos e execução de comandos do shell;\n",
    "* `math` e `cmath`: funções e operações matemáticas em números reais e complexos;\n",
    "* `itertools`: Ferramentas para construir e interagir com iteradores e geradores;\n",
    "* `functools`: Ferramentas que auxiliam na programação funcional;\n",
    "* `random`: Ferramentas para geração números pseudo-aleatórios;\n",
    "* `pickle`: Ferramentas para persistência de objetos: salvando e carregando objetos do disco;\n",
    "* `json` e `csv`: Ferramentas para ler arquivos formatados em JSON e CSV;\n",
    "* `urllib`: Ferramentas para executar HTTP e outras solicitações da web;\n",
    "\n",
    "\n",
    "# Tópicos adicionais #\n",
    "\n",
    "Neste ponto faremos uma revisão do conteúdo ministrado através de algumas atividades que buscam consolidar o conteúdo ministrado e discutir alguns temas adicionais como:\n",
    "\n",
    "* Uso de Iteradores;\n",
    "* Operando com listas e List-Comprehensions;\n",
    "* Uso de Geradores;\n",
    "* Processamento de Strings e expressões Regular."
   ]
  },
  {
   "cell_type": "code",
   "execution_count": null,
   "id": "e54830a6-8168-4abe-8643-b07732cddf71",
   "metadata": {},
   "outputs": [],
   "source": []
  }
 ],
 "metadata": {
  "kernelspec": {
   "display_name": "Python 3 (ipykernel)",
   "language": "python",
   "name": "python3"
  },
  "language_info": {
   "codemirror_mode": {
    "name": "ipython",
    "version": 3
   },
   "file_extension": ".py",
   "mimetype": "text/x-python",
   "name": "python",
   "nbconvert_exporter": "python",
   "pygments_lexer": "ipython3",
   "version": "3.9.16"
  }
 },
 "nbformat": 4,
 "nbformat_minor": 5
}
